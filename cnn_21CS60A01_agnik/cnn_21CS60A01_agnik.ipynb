{
 "cells": [
  {
   "cell_type": "markdown",
   "metadata": {},
   "source": [
    "## Downloading logs_cnn folder from google drive\n",
    "\n",
    "my logs_cnn folder is too big. So I kept it on google drive and the link is \n",
    "https://drive.google.com/drive/u/0/folders/1N2JlUg8GKi0bDQETATJ0U864F7mQ5EPC"
   ]
  },
  {
   "cell_type": "code",
   "execution_count": 1,
   "metadata": {},
   "outputs": [
    {
     "name": "stdout",
     "output_type": "stream",
     "text": [
      "\u001b[33mWARNING: Value for scheme.headers does not match. Please report this to <https://github.com/pypa/pip/issues/9617>\n",
      "distutils: /opt/anaconda3/include/python3.8/UNKNOWN\n",
      "sysconfig: /opt/anaconda3/include/python3.8\u001b[0m\n",
      "\u001b[33mWARNING: Additional context:\n",
      "user = False\n",
      "home = None\n",
      "root = None\n",
      "prefix = None\u001b[0m\n",
      "Collecting gdown\n",
      "  Downloading gdown-4.4.0.tar.gz (14 kB)\n",
      "  Installing build dependencies ... \u001b[?25ldone\n",
      "\u001b[?25h  Getting requirements to build wheel ... \u001b[?25ldone\n",
      "\u001b[?25h    Preparing wheel metadata ... \u001b[?25ldone\n",
      "\u001b[?25hRequirement already satisfied: six in /opt/anaconda3/lib/python3.8/site-packages (from gdown) (1.15.0)\n",
      "Requirement already satisfied: requests[socks] in /opt/anaconda3/lib/python3.8/site-packages (from gdown) (2.24.0)\n",
      "Requirement already satisfied: tqdm in /opt/anaconda3/lib/python3.8/site-packages (from gdown) (4.50.2)\n",
      "Requirement already satisfied: beautifulsoup4 in /opt/anaconda3/lib/python3.8/site-packages (from gdown) (4.9.3)\n",
      "Requirement already satisfied: filelock in /opt/anaconda3/lib/python3.8/site-packages (from gdown) (3.0.12)\n",
      "Requirement already satisfied: soupsieve>1.2 in /opt/anaconda3/lib/python3.8/site-packages (from beautifulsoup4->gdown) (2.0.1)\n",
      "Requirement already satisfied: certifi>=2017.4.17 in /opt/anaconda3/lib/python3.8/site-packages (from requests[socks]->gdown) (2020.6.20)\n",
      "Requirement already satisfied: idna<3,>=2.5 in /opt/anaconda3/lib/python3.8/site-packages (from requests[socks]->gdown) (2.10)\n",
      "Requirement already satisfied: chardet<4,>=3.0.2 in /opt/anaconda3/lib/python3.8/site-packages (from requests[socks]->gdown) (3.0.4)\n",
      "Requirement already satisfied: urllib3!=1.25.0,!=1.25.1,<1.26,>=1.21.1 in /opt/anaconda3/lib/python3.8/site-packages (from requests[socks]->gdown) (1.25.11)\n",
      "Requirement already satisfied: PySocks!=1.5.7,>=1.5.6 in /opt/anaconda3/lib/python3.8/site-packages (from requests[socks]->gdown) (1.7.1)\n",
      "Building wheels for collected packages: gdown\n",
      "  Building wheel for gdown (PEP 517) ... \u001b[?25ldone\n",
      "\u001b[?25h  Created wheel for gdown: filename=gdown-4.4.0-py3-none-any.whl size=14775 sha256=6a55cc0a31c063982e2fad2448abb7ac75679cd5c3018d22fd6ff4dab840a8bb\n",
      "  Stored in directory: /Users/agniksaha/Library/Caches/pip/wheels/7b/7b/5d/656f46cd6889e4c93977be9586901d0adc1271b2d876c84c96\n",
      "Successfully built gdown\n",
      "Installing collected packages: gdown\n",
      "\u001b[33mWARNING: Value for scheme.headers does not match. Please report this to <https://github.com/pypa/pip/issues/9617>\n",
      "distutils: /opt/anaconda3/include/python3.8/UNKNOWN\n",
      "sysconfig: /opt/anaconda3/include/python3.8\u001b[0m\n",
      "\u001b[33mWARNING: Additional context:\n",
      "user = False\n",
      "home = None\n",
      "root = None\n",
      "prefix = None\u001b[0m\n",
      "Successfully installed gdown-4.4.0\n",
      "\u001b[33mWARNING: You are using pip version 21.1; however, version 22.0.4 is available.\n",
      "You should consider upgrading via the '/opt/anaconda3/bin/python -m pip install --upgrade pip' command.\u001b[0m\n"
     ]
    }
   ],
   "source": [
    "!pip install gdown"
   ]
  },
  {
   "cell_type": "code",
   "execution_count": 5,
   "metadata": {},
   "outputs": [],
   "source": [
    "import gdown"
   ]
  },
  {
   "cell_type": "code",
   "execution_count": 26,
   "metadata": {},
   "outputs": [
    {
     "data": {
      "text/plain": [
       "['/Users/agniksaha/Downloads/pytorch_cl2/cnn_21CS60A01_agnik/cnn_best.pth']"
      ]
     },
     "execution_count": 26,
     "metadata": {},
     "output_type": "execute_result"
    }
   ],
   "source": [
    "url = \"https://drive.google.com/drive/folders/1N2JlUg8GKi0bDQETATJ0U864F7mQ5EPC?usp=sharing\"\n",
    "gdown.download_folder(url, quiet=True, use_cookies=False)"
   ]
  },
  {
   "cell_type": "markdown",
   "metadata": {},
   "source": [
    "### Importing necessary modules"
   ]
  },
  {
   "cell_type": "code",
   "execution_count": 18,
   "metadata": {},
   "outputs": [],
   "source": [
    "import torch\n",
    "import torch.nn as nn\n",
    "import torch.optim as optim\n",
    "import torchvision\n",
    "from torchvision import models, transforms\n",
    "import numpy as np\n",
    "import shutil\n",
    "import matplotlib.pyplot as plt"
   ]
  },
  {
   "cell_type": "markdown",
   "metadata": {},
   "source": [
    "Save the weights corresponding to the minimum validation loss in a folder\n",
    "‘logs_resnet/’\n",
    "I am creating two folders named checkpoints and logs_resnet.\n",
    "checkpoints will contain current checkpoints and logs_resnet will contain minimum validation loss"
   ]
  },
  {
   "cell_type": "code",
   "execution_count": 19,
   "metadata": {},
   "outputs": [
    {
     "data": {
      "text/plain": [
       "<torch._C.Generator at 0x7f8d4ea3b2b0>"
      ]
     },
     "execution_count": 19,
     "metadata": {},
     "output_type": "execute_result"
    }
   ],
   "source": [
    "torch.manual_seed(1) # my roll is 21CS60A01..taking last two digits as 1"
   ]
  },
  {
   "cell_type": "code",
   "execution_count": 3,
   "metadata": {},
   "outputs": [],
   "source": [
    "%mkdir logs_cnn "
   ]
  },
  {
   "cell_type": "markdown",
   "metadata": {},
   "source": [
    "### Loading training, validation and test dataset "
   ]
  },
  {
   "cell_type": "code",
   "execution_count": 4,
   "metadata": {},
   "outputs": [
    {
     "name": "stdout",
     "output_type": "stream",
     "text": [
      "18792 2808 5400\n",
      "(3, 64, 64) 7\n"
     ]
    }
   ],
   "source": [
    "import pickle\n",
    "with open(\"euroSAT_train_val_test.pkl\", 'rb') as f:\n",
    "    train_set, val_set, test_set = pickle.load(f)\n",
    "    print (len(train_set), len(val_set), len(test_set)) # 18792 2808 5400\n",
    "    print (train_set[0][0].shape, train_set[0][1]) # (3, 64, 64) 7"
   ]
  },
  {
   "cell_type": "markdown",
   "metadata": {},
   "source": [
    "###  Preparing train_loader , val_loader & test_loader"
   ]
  },
  {
   "cell_type": "code",
   "execution_count": 5,
   "metadata": {},
   "outputs": [],
   "source": [
    "from torch.utils.data import DataLoader\n",
    "\n",
    "train_loader  = DataLoader(train_set, batch_size = 64, shuffle= True)\n"
   ]
  },
  {
   "cell_type": "code",
   "execution_count": 6,
   "metadata": {},
   "outputs": [],
   "source": [
    "val_loader = torch.utils.data.DataLoader(val_set,batch_size=64, shuffle=False)"
   ]
  },
  {
   "cell_type": "code",
   "execution_count": 7,
   "metadata": {},
   "outputs": [],
   "source": [
    "test_loader=DataLoader(dataset=test_set, batch_size=64, shuffle=False)"
   ]
  },
  {
   "cell_type": "markdown",
   "metadata": {},
   "source": [
    "This is the device selection. If anyone has gpu, the model will be trained faster"
   ]
  },
  {
   "cell_type": "code",
   "execution_count": 24,
   "metadata": {},
   "outputs": [],
   "source": [
    "device = torch.device(\"cuda:0\" if torch.cuda.is_available() else \"cpu\")"
   ]
  },
  {
   "cell_type": "markdown",
   "metadata": {},
   "source": [
    "### train_model function trains the model and this function returns training accuracy and training loss"
   ]
  },
  {
   "cell_type": "code",
   "execution_count": 9,
   "metadata": {},
   "outputs": [],
   "source": [
    "def train_model(model, loss_function, optimizer, data_loader):\n",
    "    # set model to training mode\n",
    "    model.train()\n",
    "\n",
    "    current_loss = 0.0\n",
    "    current_acc = 0\n",
    "\n",
    "    # iterate over the training data\n",
    "    for i, (inputs, labels) in enumerate(data_loader):\n",
    "        # send the input/labels to the GPU\n",
    "        inputs = inputs.to(device)\n",
    "        labels = labels.to(device)\n",
    "\n",
    "        # zero the parameter gradients\n",
    "        optimizer.zero_grad()\n",
    "\n",
    "        with torch.set_grad_enabled(True):\n",
    "            # forward\n",
    "            outputs = model(inputs)\n",
    "            _, predictions = torch.max(outputs, 1)\n",
    "            loss = loss_function(outputs, labels)\n",
    "\n",
    "            # backward\n",
    "            loss.backward()\n",
    "            optimizer.step()\n",
    "\n",
    "        # statistics\n",
    "        current_loss += loss.item() * inputs.size(0)\n",
    "        current_acc += torch.sum(predictions == labels.data)\n",
    "\n",
    "    total_loss = current_loss / len(data_loader.dataset)\n",
    "    total_acc = current_acc.double() / len(data_loader.dataset)\n",
    "\n",
    "    print('Train Loss: {:.4f}; Train Accuracy: {:.4f}'.format(total_loss, total_acc))\n",
    "    return total_acc,total_loss"
   ]
  },
  {
   "cell_type": "markdown",
   "metadata": {},
   "source": [
    "### validate_model function test the model and this function returns test accuracy and test loss"
   ]
  },
  {
   "cell_type": "code",
   "execution_count": 10,
   "metadata": {},
   "outputs": [],
   "source": [
    "def validate_model(model, loss_function, data_loader):\n",
    "    # set model in evaluation mode\n",
    "    model.eval()\n",
    "\n",
    "    current_loss = 0.0\n",
    "    current_acc = 0\n",
    "\n",
    "    # iterate over  the validation data\n",
    "    for i, (inputs, labels) in enumerate(data_loader):\n",
    "        # send the input/labels to the GPU\n",
    "        inputs = inputs.to(device)\n",
    "        labels = labels.to(device)\n",
    "\n",
    "        # forward\n",
    "        with torch.set_grad_enabled(False):\n",
    "            outputs = model(inputs)\n",
    "            _, predictions = torch.max(outputs, 1)\n",
    "            loss = loss_function(outputs, labels)\n",
    "\n",
    "        # statistics\n",
    "        current_loss += loss.item() * inputs.size(0)\n",
    "        current_acc += torch.sum(predictions == labels.data)\n",
    "\n",
    "    total_loss = current_loss / len(data_loader.dataset)\n",
    "    total_acc = current_acc.double() / len(data_loader.dataset)\n",
    "\n",
    "    print('Validation Loss: {:.4f}; Validation Accuracy: {:.4f}'.format(total_loss, total_acc))\n",
    "    return total_acc,total_loss"
   ]
  },
  {
   "cell_type": "markdown",
   "metadata": {},
   "source": [
    "### save_ckp function saves each checkpoint in checkpoint_path and best checkpoint in best_model_path"
   ]
  },
  {
   "cell_type": "code",
   "execution_count": 10,
   "metadata": {},
   "outputs": [],
   "source": [
    "import shutil\n",
    "def save_ckp(state, is_best, checkpoint_path, best_model_path):\n",
    "    f_path = checkpoint_path\n",
    "    torch.save(state, f_path)\n",
    "    if is_best:\n",
    "        best_fpath = best_model_path\n",
    "        shutil.copyfile(f_path, best_fpath)"
   ]
  },
  {
   "cell_type": "markdown",
   "metadata": {},
   "source": [
    "### Define our model"
   ]
  },
  {
   "cell_type": "code",
   "execution_count": 21,
   "metadata": {},
   "outputs": [],
   "source": [
    "class Eurosat_CNN(nn.Module):\n",
    "    def __init__(self):\n",
    "        super(Eurosat_CNN,self).__init__()\n",
    "        self.cnn1=nn.Conv2d(in_channels=3, out_channels=64, kernel_size=3, stride=2, padding=1)\n",
    "        self.relu=nn.ReLU()\n",
    "        self.maxpool1=nn.MaxPool2d(kernel_size=2)\n",
    "\n",
    "        self.cnn2=nn.Conv2d(in_channels=64, out_channels=96, kernel_size=3, padding=1)\n",
    "        self.maxpool2=nn.MaxPool2d(kernel_size=2)\n",
    "        \n",
    "        self.cnn3=nn.Conv2d(in_channels=96, out_channels=192, kernel_size=3, padding=1)\n",
    "        self.maxpool3=nn.MaxPool2d(kernel_size=2)\n",
    "\n",
    "        self.fc1 =nn.Linear(in_features=192*4*4, out_features=1024)\n",
    "        self.dropout= nn.Dropout(p=0.5)\n",
    "        self.fc2 =nn.Linear(in_features=1024, out_features=512)\n",
    "        self.fc3 =nn.Linear(in_features=512, out_features=10)\n",
    "        \n",
    "    def forward(self,x):\n",
    "        #1st convolutional layer: 64 out channels, kernel size 3x3, stride 2, padding 1, \n",
    "        #followed by relu activation, and max pooling (with 2x2 subsampling)\n",
    "        out =self.cnn1(x)\n",
    "        out =self.relu(out)\n",
    "        out =self.maxpool1(out)\n",
    "        \n",
    "        #2nd convolutional layer: 96 out channels, kernel size 3x3, padding 1, followed by relu\n",
    "        #activation, and max pooling (with 2x2 subsampling\n",
    "        out =self.cnn2(out)\n",
    "        out =self.relu(out)\n",
    "        out =self.maxpool2(out)\n",
    "        \n",
    "        #3rd convolutional layer: 192 out channels, kernel size 3x3, padding 1, followed by relu\n",
    "        #activation and max pooling (with 2x2 subsampling).\n",
    "        out =self.cnn3(out)\n",
    "        out =self.relu(out)\n",
    "        out =self.maxpool3(out)\n",
    "        \n",
    "        # Flatten the above layer and feed it to a linear layer with 1024 hidden units \n",
    "        #followed by relu activation\n",
    "        out =out.view(-1,192*4*4)\n",
    "        out =self.fc1(out)\n",
    "        out =self.relu(out)\n",
    "        # Add dropout with retention probability of 0.5\n",
    "        out =self.dropout(out)\n",
    "        # Again feed it to a linear layer with 512 hidden units followed by relu activation.\n",
    "        out =self.fc2(out)\n",
    "        out =self.relu(out) \n",
    "        # Add an output dense layer with 10 nodes\n",
    "        out =self.fc3(out)\n",
    "        return out"
   ]
  },
  {
   "cell_type": "markdown",
   "metadata": {},
   "source": [
    "### Model fitting step"
   ]
  },
  {
   "cell_type": "code",
   "execution_count": 12,
   "metadata": {},
   "outputs": [],
   "source": [
    "def fit(epochs,valid_loss_min):\n",
    "    best_acc = 0 # variable to store best accuracy\n",
    "    \n",
    "    # lists to store accuracies and losses\n",
    "    train_losses = []\n",
    "    train_accuracies = []\n",
    "    val_losses = []\n",
    "    val_accuracies = []\n",
    "    \n",
    "    # our model\n",
    "    model=Eurosat_CNN()\n",
    "    CUDA=torch.cuda.is_available()\n",
    "    if CUDA:\n",
    "        model=model.cuda()\n",
    "\n",
    "    # loss function\n",
    "    loss_function = nn.CrossEntropyLoss()\n",
    "\n",
    "    # We'll optimize all parameters\n",
    "    optimizer = optim.Adam(model.parameters())\n",
    "\n",
    "    # train\n",
    "    for epoch in range(epochs):\n",
    "        print('Epoch {}/{}'.format(epoch + 1, epochs))\n",
    "\n",
    "        train_acc, train_loss = train_model(model, loss_function, optimizer, train_loader)\n",
    "        val_acc, valid_loss = validate_model(model, loss_function, val_loader)\n",
    "        \n",
    "        train_losses.append(train_loss)\n",
    "        train_accuracies.append(train_acc)\n",
    "        val_losses.append(valid_loss)\n",
    "        val_accuracies.append(val_acc)       \n",
    "\n",
    "\n",
    "\n",
    "        ## save the model if validation loss has decreased\n",
    "        if valid_loss <= valid_loss_min:\n",
    "            print('Validation loss decreased ({:.6f} --> {:.6f}).  Saving model ...'.format(valid_loss_min,valid_loss))\n",
    "            torch.save(model.state_dict(), './logs_cnn/cnn_best.pth')\n",
    "            valid_loss_min = valid_loss\n",
    "            \n",
    "        # implementing early stopping code\n",
    "        if val_acc > best_acc:\n",
    "            best_acc = val_acc\n",
    "            es = 0\n",
    "        else:\n",
    "            es += 1\n",
    "            print(\"Counter {} of 5 (early stopping)\".format(es))\n",
    "\n",
    "            if es > 4:\n",
    "                print(\"Early stopping with best_acc: \", best_acc, \"and val_acc for this epoch: \", val_acc, \"...\")\n",
    "                break\n",
    "                \n",
    "    return train_losses,train_accuracies,val_losses,val_accuracies\n"
   ]
  },
  {
   "cell_type": "code",
   "execution_count": 13,
   "metadata": {},
   "outputs": [
    {
     "name": "stdout",
     "output_type": "stream",
     "text": [
      "Epoch 1/15\n",
      "Train Loss: 1.4331; Train Accuracy: 0.4433\n",
      "Validation Loss: 1.1702; Validation Accuracy: 0.5979\n",
      "Validation loss decreased (inf --> 1.170192).  Saving model ...\n",
      "Epoch 2/15\n",
      "Train Loss: 0.8486; Train Accuracy: 0.6895\n",
      "Validation Loss: 0.7941; Validation Accuracy: 0.7105\n",
      "Validation loss decreased (1.170192 --> 0.794051).  Saving model ...\n",
      "Epoch 3/15\n",
      "Train Loss: 0.7275; Train Accuracy: 0.7355\n",
      "Validation Loss: 0.6389; Validation Accuracy: 0.7710\n",
      "Validation loss decreased (0.794051 --> 0.638855).  Saving model ...\n",
      "Epoch 4/15\n",
      "Train Loss: 0.6489; Train Accuracy: 0.7685\n",
      "Validation Loss: 0.8126; Validation Accuracy: 0.7144\n",
      "Counter 1 of 5 (early stopping)\n",
      "Epoch 5/15\n",
      "Train Loss: 0.5980; Train Accuracy: 0.7887\n",
      "Validation Loss: 0.5525; Validation Accuracy: 0.8095\n",
      "Validation loss decreased (0.638855 --> 0.552490).  Saving model ...\n",
      "Epoch 6/15\n",
      "Train Loss: 0.5318; Train Accuracy: 0.8119\n",
      "Validation Loss: 0.5284; Validation Accuracy: 0.8209\n",
      "Validation loss decreased (0.552490 --> 0.528421).  Saving model ...\n",
      "Epoch 7/15\n",
      "Train Loss: 0.4750; Train Accuracy: 0.8322\n",
      "Validation Loss: 0.4646; Validation Accuracy: 0.8351\n",
      "Validation loss decreased (0.528421 --> 0.464644).  Saving model ...\n",
      "Epoch 8/15\n",
      "Train Loss: 0.4418; Train Accuracy: 0.8452\n",
      "Validation Loss: 0.4217; Validation Accuracy: 0.8568\n",
      "Validation loss decreased (0.464644 --> 0.421672).  Saving model ...\n",
      "Epoch 9/15\n",
      "Train Loss: 0.3964; Train Accuracy: 0.8647\n",
      "Validation Loss: 0.4377; Validation Accuracy: 0.8529\n",
      "Counter 1 of 5 (early stopping)\n",
      "Epoch 10/15\n",
      "Train Loss: 0.3650; Train Accuracy: 0.8698\n",
      "Validation Loss: 0.4317; Validation Accuracy: 0.8547\n",
      "Counter 2 of 5 (early stopping)\n",
      "Epoch 11/15\n",
      "Train Loss: 0.3406; Train Accuracy: 0.8806\n",
      "Validation Loss: 0.3977; Validation Accuracy: 0.8697\n",
      "Validation loss decreased (0.421672 --> 0.397714).  Saving model ...\n",
      "Epoch 12/15\n",
      "Train Loss: 0.3085; Train Accuracy: 0.8919\n",
      "Validation Loss: 0.4344; Validation Accuracy: 0.8479\n",
      "Counter 1 of 5 (early stopping)\n",
      "Epoch 13/15\n",
      "Train Loss: 0.2891; Train Accuracy: 0.8996\n",
      "Validation Loss: 0.4227; Validation Accuracy: 0.8572\n",
      "Counter 2 of 5 (early stopping)\n",
      "Epoch 14/15\n",
      "Train Loss: 0.2552; Train Accuracy: 0.9129\n",
      "Validation Loss: 0.3866; Validation Accuracy: 0.8682\n",
      "Validation loss decreased (0.397714 --> 0.386642).  Saving model ...\n",
      "Counter 3 of 5 (early stopping)\n",
      "Epoch 15/15\n",
      "Train Loss: 0.2366; Train Accuracy: 0.9159\n",
      "Validation Loss: 0.4254; Validation Accuracy: 0.8543\n",
      "Counter 4 of 5 (early stopping)\n"
     ]
    }
   ],
   "source": [
    "valid_loss_min = np.Inf\n",
    "epochs=15\n",
    "train_losses,train_accuracies,val_losses,val_accuracies = fit(epochs,valid_loss_min)"
   ]
  },
  {
   "cell_type": "code",
   "execution_count": 14,
   "metadata": {},
   "outputs": [
    {
     "data": {
      "text/plain": [
       "[1.4331251618810388,\n",
       " 0.8486292596165806,\n",
       " 0.7274688624635358,\n",
       " 0.6488911938088759,\n",
       " 0.5979508732470517,\n",
       " 0.5318148748678774,\n",
       " 0.47501684352914136,\n",
       " 0.4418496351741435,\n",
       " 0.3963762348689846,\n",
       " 0.3649646963348486,\n",
       " 0.34061348831567323,\n",
       " 0.30851927584868993,\n",
       " 0.28914236008689576,\n",
       " 0.25522164216684556,\n",
       " 0.23661878908020528]"
      ]
     },
     "execution_count": 14,
     "metadata": {},
     "output_type": "execute_result"
    }
   ],
   "source": [
    "train_losses"
   ]
  },
  {
   "cell_type": "code",
   "execution_count": 15,
   "metadata": {},
   "outputs": [
    {
     "data": {
      "text/plain": [
       "[tensor(0.4433, dtype=torch.float64),\n",
       " tensor(0.6895, dtype=torch.float64),\n",
       " tensor(0.7355, dtype=torch.float64),\n",
       " tensor(0.7685, dtype=torch.float64),\n",
       " tensor(0.7887, dtype=torch.float64),\n",
       " tensor(0.8119, dtype=torch.float64),\n",
       " tensor(0.8322, dtype=torch.float64),\n",
       " tensor(0.8452, dtype=torch.float64),\n",
       " tensor(0.8647, dtype=torch.float64),\n",
       " tensor(0.8698, dtype=torch.float64),\n",
       " tensor(0.8806, dtype=torch.float64),\n",
       " tensor(0.8919, dtype=torch.float64),\n",
       " tensor(0.8996, dtype=torch.float64),\n",
       " tensor(0.9129, dtype=torch.float64),\n",
       " tensor(0.9159, dtype=torch.float64)]"
      ]
     },
     "execution_count": 15,
     "metadata": {},
     "output_type": "execute_result"
    }
   ],
   "source": [
    "train_accuracies "
   ]
  },
  {
   "cell_type": "code",
   "execution_count": 16,
   "metadata": {},
   "outputs": [
    {
     "data": {
      "text/plain": [
       "[1.1701920779681954,\n",
       " 0.7940513834654436,\n",
       " 0.6388549293547954,\n",
       " 0.8126260981260881,\n",
       " 0.5524895368648051,\n",
       " 0.5284211525210628,\n",
       " 0.46464393052280456,\n",
       " 0.4216722624424176,\n",
       " 0.4376725539183005,\n",
       " 0.43171841992951526,\n",
       " 0.39771440221882953,\n",
       " 0.4343538245669118,\n",
       " 0.4226528451992915,\n",
       " 0.3866415560415328,\n",
       " 0.42539576893178827]"
      ]
     },
     "execution_count": 16,
     "metadata": {},
     "output_type": "execute_result"
    }
   ],
   "source": [
    "val_losses"
   ]
  },
  {
   "cell_type": "code",
   "execution_count": 17,
   "metadata": {},
   "outputs": [
    {
     "data": {
      "text/plain": [
       "[tensor(0.5979, dtype=torch.float64),\n",
       " tensor(0.7105, dtype=torch.float64),\n",
       " tensor(0.7710, dtype=torch.float64),\n",
       " tensor(0.7144, dtype=torch.float64),\n",
       " tensor(0.8095, dtype=torch.float64),\n",
       " tensor(0.8209, dtype=torch.float64),\n",
       " tensor(0.8351, dtype=torch.float64),\n",
       " tensor(0.8568, dtype=torch.float64),\n",
       " tensor(0.8529, dtype=torch.float64),\n",
       " tensor(0.8547, dtype=torch.float64),\n",
       " tensor(0.8697, dtype=torch.float64),\n",
       " tensor(0.8479, dtype=torch.float64),\n",
       " tensor(0.8572, dtype=torch.float64),\n",
       " tensor(0.8682, dtype=torch.float64),\n",
       " tensor(0.8543, dtype=torch.float64)]"
      ]
     },
     "execution_count": 17,
     "metadata": {},
     "output_type": "execute_result"
    }
   ],
   "source": [
    "val_accuracies"
   ]
  },
  {
   "cell_type": "markdown",
   "metadata": {},
   "source": [
    "## Plots of loss and accuracy on the training and validation sets"
   ]
  },
  {
   "cell_type": "code",
   "execution_count": 18,
   "metadata": {},
   "outputs": [
    {
     "data": {
      "image/png": "[encoded data removed]",
      "text/plain": [
       "<Figure size 432x288 with 1 Axes>"
      ]
     },
     "metadata": {
      "needs_background": "light"
     },
     "output_type": "display_data"
    }
   ],
   "source": [
    "# importing the required module\n",
    "\n",
    "def plot_accuracies(train_accuracies,val_accuracies):\n",
    "    plt.plot(train_accuracies, '-rx')\n",
    "    plt.plot(val_accuracies, '-bx')\n",
    "    plt.xlabel('epoch')\n",
    "    plt.ylabel('accuracy')\n",
    "    plt.legend(['Training', 'Validation'])\n",
    "    plt.title('Accuracy vs. No. of epochs')\n",
    "\n",
    "    \n",
    "\n",
    "\n",
    "plot_accuracies(train_accuracies,val_accuracies)"
   ]
  },
  {
   "cell_type": "code",
   "execution_count": 19,
   "metadata": {},
   "outputs": [
    {
     "data": {
      "image/png": "[encoded data removed]",
      "text/plain": [
       "<Figure size 432x288 with 1 Axes>"
      ]
     },
     "metadata": {
      "needs_background": "light"
     },
     "output_type": "display_data"
    }
   ],
   "source": [
    "def plot_losses(train_losses,val_losses):\n",
    "    plt.plot(train_losses, '-rx')\n",
    "    plt.plot(val_losses, '-bx')\n",
    "    plt.xlabel('epoch')\n",
    "    plt.ylabel('loss')\n",
    "    plt.legend(['Training', 'Validation'])\n",
    "    plt.title('loss vs. No. of epochs')\n",
    "\n",
    "    \n",
    "\n",
    "\n",
    "plot_losses(train_losses,val_losses)"
   ]
  },
  {
   "cell_type": "markdown",
   "metadata": {},
   "source": [
    "## Loading the model\n",
    "- Load the state dict to the model\n"
   ]
  },
  {
   "cell_type": "code",
   "execution_count": 27,
   "metadata": {},
   "outputs": [
    {
     "data": {
      "text/plain": [
       "Eurosat_CNN(\n",
       "  (cnn1): Conv2d(3, 64, kernel_size=(3, 3), stride=(2, 2), padding=(1, 1))\n",
       "  (relu): ReLU()\n",
       "  (maxpool1): MaxPool2d(kernel_size=2, stride=2, padding=0, dilation=1, ceil_mode=False)\n",
       "  (cnn2): Conv2d(64, 96, kernel_size=(3, 3), stride=(1, 1), padding=(1, 1))\n",
       "  (maxpool2): MaxPool2d(kernel_size=2, stride=2, padding=0, dilation=1, ceil_mode=False)\n",
       "  (cnn3): Conv2d(96, 192, kernel_size=(3, 3), stride=(1, 1), padding=(1, 1))\n",
       "  (maxpool3): MaxPool2d(kernel_size=2, stride=2, padding=0, dilation=1, ceil_mode=False)\n",
       "  (fc1): Linear(in_features=3072, out_features=1024, bias=True)\n",
       "  (dropout): Dropout(p=0.5, inplace=False)\n",
       "  (fc2): Linear(in_features=1024, out_features=512, bias=True)\n",
       "  (fc3): Linear(in_features=512, out_features=10, bias=True)\n",
       ")"
      ]
     },
     "execution_count": 27,
     "metadata": {},
     "output_type": "execute_result"
    }
   ],
   "source": [
    "model = Eurosat_CNN()\n",
    "model.load_state_dict(torch.load('./cnn_best.pth'))\n",
    "model.to(device)"
   ]
  },
  {
   "cell_type": "code",
   "execution_count": 21,
   "metadata": {},
   "outputs": [
    {
     "name": "stdout",
     "output_type": "stream",
     "text": [
      "model =  Eurosat_CNN(\n",
      "  (cnn1): Conv2d(3, 64, kernel_size=(3, 3), stride=(2, 2), padding=(1, 1))\n",
      "  (relu): ReLU()\n",
      "  (maxpool1): MaxPool2d(kernel_size=2, stride=2, padding=0, dilation=1, ceil_mode=False)\n",
      "  (cnn2): Conv2d(64, 96, kernel_size=(3, 3), stride=(1, 1), padding=(1, 1))\n",
      "  (maxpool2): MaxPool2d(kernel_size=2, stride=2, padding=0, dilation=1, ceil_mode=False)\n",
      "  (cnn3): Conv2d(96, 192, kernel_size=(3, 3), stride=(1, 1), padding=(1, 1))\n",
      "  (maxpool3): MaxPool2d(kernel_size=2, stride=2, padding=0, dilation=1, ceil_mode=False)\n",
      "  (fc1): Linear(in_features=3072, out_features=1024, bias=True)\n",
      "  (dropout): Dropout(p=0.5, inplace=False)\n",
      "  (fc2): Linear(in_features=1024, out_features=512, bias=True)\n",
      "  (fc3): Linear(in_features=512, out_features=10, bias=True)\n",
      ")\n"
     ]
    }
   ],
   "source": [
    "print(\"model = \", model)"
   ]
  },
  {
   "cell_type": "code",
   "execution_count": 25,
   "metadata": {},
   "outputs": [],
   "source": [
    "classes = ['AnnualCrop','Forest','HerbaceousVegetation','Highway','Industrial','Pasture','PermanentCrop','Residential','River','SeaLake']"
   ]
  },
  {
   "cell_type": "markdown",
   "metadata": {},
   "source": [
    "## Output the predicted value from a test dataset"
   ]
  },
  {
   "cell_type": "code",
   "execution_count": 22,
   "metadata": {},
   "outputs": [],
   "source": [
    "def get_all_preds(model, loader):\n",
    "    preds = torch.tensor([])\n",
    "    true_labels = torch.tensor([])\n",
    "    with torch.no_grad():\n",
    "        for images, labels in loader:\n",
    "            images = images.to(device)\n",
    "            labels = labels.to(device)\n",
    "            outputs = model(images)\n",
    "            _, predicted = torch.max(outputs, 1)\n",
    "            true_labels = torch.cat((true_labels,labels),dim = 0)\n",
    "            preds = torch.cat((preds,predicted),dim = 0)\n",
    "    return true_labels,preds"
   ]
  },
  {
   "cell_type": "markdown",
   "metadata": {},
   "source": [
    "### REPORT THE ACCURACY ON TEST DATA"
   ]
  },
  {
   "cell_type": "code",
   "execution_count": 23,
   "metadata": {},
   "outputs": [],
   "source": [
    "labels,preds = get_all_preds(model, test_loader)"
   ]
  },
  {
   "cell_type": "code",
   "execution_count": 24,
   "metadata": {},
   "outputs": [
    {
     "name": "stdout",
     "output_type": "stream",
     "text": [
      "Accuracy of test data is 0.8637037037037038\n",
      "\n"
     ]
    }
   ],
   "source": [
    "count = 0\n",
    "for i in range(len(labels)):\n",
    "    if preds[i] == labels[i]:\n",
    "        count = count+1\n",
    "acc_test = count/ len(labels)\n",
    "print(f'Accuracy of test data is {acc_test}\\n')"
   ]
  },
  {
   "cell_type": "markdown",
   "metadata": {},
   "source": [
    "### REPORT THE ACCURACY ON VALIDATION DATA"
   ]
  },
  {
   "cell_type": "code",
   "execution_count": 25,
   "metadata": {},
   "outputs": [
    {
     "name": "stdout",
     "output_type": "stream",
     "text": [
      "Accuracy of validation data is 0.8596866096866097\n",
      "\n"
     ]
    }
   ],
   "source": [
    "labels_val,preds_val = get_all_preds(model, val_loader)\n",
    "count1 = 0\n",
    "for i in range(len(labels_val)):\n",
    "    if preds_val[i] == labels_val[i]:\n",
    "        count1 = count1+1\n",
    "acc_val = count1/ len(labels_val)\n",
    "print(f'Accuracy of validation data is {acc_val}\\n')"
   ]
  },
  {
   "cell_type": "markdown",
   "metadata": {},
   "source": [
    "## Plot confusion matrix"
   ]
  },
  {
   "cell_type": "code",
   "execution_count": 26,
   "metadata": {},
   "outputs": [],
   "source": [
    "y_true, y_pred = get_all_preds(model, test_loader)"
   ]
  },
  {
   "cell_type": "code",
   "execution_count": 27,
   "metadata": {},
   "outputs": [],
   "source": [
    "classes = ('AnnualCrop','Forest','HerbaceousVegetation','Highway','Industrial','Pasture','PermanentCrop','Residential','River','SeaLake') "
   ]
  },
  {
   "cell_type": "code",
   "execution_count": 28,
   "metadata": {},
   "outputs": [
    {
     "data": {
      "text/plain": [
       "<sklearn.metrics._plot.confusion_matrix.ConfusionMatrixDisplay at 0x7f8dbdda57f0>"
      ]
     },
     "execution_count": 28,
     "metadata": {},
     "output_type": "execute_result"
    },
    {
     "data": {
      "image/png": "[encoded data removed]",
      "text/plain": [
       "<Figure size 432x288 with 2 Axes>"
      ]
     },
     "metadata": {
      "needs_background": "light"
     },
     "output_type": "display_data"
    }
   ],
   "source": [
    "from sklearn.metrics import confusion_matrix, ConfusionMatrixDisplay\n",
    "cm = confusion_matrix(y_true, y_pred)\n",
    "disp = ConfusionMatrixDisplay(confusion_matrix=cm)\n",
    "disp.plot()"
   ]
  },
  {
   "cell_type": "code",
   "execution_count": null,
   "metadata": {},
   "outputs": [],
   "source": []
  },
  {
   "cell_type": "markdown",
   "metadata": {},
   "source": [
    "## Show the recall for each class"
   ]
  },
  {
   "cell_type": "code",
   "execution_count": 29,
   "metadata": {},
   "outputs": [],
   "source": [
    "from sklearn.metrics import recall_score"
   ]
  },
  {
   "cell_type": "code",
   "execution_count": 30,
   "metadata": {},
   "outputs": [
    {
     "name": "stdout",
     "output_type": "stream",
     "text": [
      "[0.78833333 0.98       0.85166667 0.814      0.908      0.83\n",
      " 0.756      0.96833333 0.836      0.88333333]\n"
     ]
    }
   ],
   "source": [
    "y_true, y_pred = get_all_preds(model, test_loader)\n",
    "y_true = y_true.tolist()\n",
    "y_pred = y_pred.tolist()\n",
    "recall = recall_score(y_true, y_pred, average=None)\n",
    "print(recall)"
   ]
  },
  {
   "cell_type": "code",
   "execution_count": 31,
   "metadata": {},
   "outputs": [],
   "source": [
    "preds = [int(x) for x in preds]"
   ]
  },
  {
   "cell_type": "code",
   "execution_count": 32,
   "metadata": {},
   "outputs": [],
   "source": [
    "f = open(\"result_task_1.csv\", \"w+\")\n",
    "f.write(f'id,label\\n')\n",
    "count = 0\n",
    "for pred in preds:\n",
    "    f.write(f'{count},{pred}\\n')\n",
    "    count = count+1\n",
    "f.close()"
   ]
  },
  {
   "cell_type": "code",
   "execution_count": null,
   "metadata": {},
   "outputs": [],
   "source": []
  }
 ],
 "metadata": {
  "kernelspec": {
   "display_name": "Python 3",
   "language": "python",
   "name": "python3"
  },
  "language_info": {
   "codemirror_mode": {
    "name": "ipython",
    "version": 3
   },
   "file_extension": ".py",
   "mimetype": "text/x-python",
   "name": "python",
   "nbconvert_exporter": "python",
   "pygments_lexer": "ipython3",
   "version": "3.8.5"
  }
 },
 "nbformat": 4,
 "nbformat_minor": 5
}
