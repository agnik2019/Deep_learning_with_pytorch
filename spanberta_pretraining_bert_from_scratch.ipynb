{
 "cells": [
  {
   "cell_type": "markdown",
   "metadata": {
    "id": "_iMsVyvH6Bvv"
   },
   "source": [
    "# SpanBERTa - Part I: How We Trained RoBERTa Language Model for Spanish from Scratch"
   ]
  },
  {
   "cell_type": "markdown",
   "metadata": {
    "id": "SnR5gCx9-WQB"
   },
   "source": [
    "# Introduction"
   ]
  },
  {
   "cell_type": "markdown",
   "metadata": {
    "id": "2_QN4rLR9jC8"
   },
   "source": [
    "Self-training methods with transformer models have achieved state-of-the-art performance on most NLP tasks. However, because training them is computationally expensive, most currently available pretrained transformer models are only for English. Therefore, to improve performance in NLP tasks in our projects on Spanish, I decided to train a **RoBERTa** language model for Spanish from scratch and call it SpanBERTa.\n",
    "\n",
    "SpanBERTa has the same size as RoBERTa-base. We followed RoBERTa's training schema to train the model on 18 GB of [OSCAR](https://traces1.inria.fr/oscar/)'s Spanish corpus in 8 days using 4 Tesla P100 GPUs.\n",
    "\n",
    "In this notebook, I will walk through an end-to-end process to train a BERT-like language model from scratch using `transformers` and `tokenizers` libraries by Hugging Face. \n"
   ]
  },
  {
   "cell_type": "markdown",
   "metadata": {
    "id": "DmoXJKZi9kSQ"
   },
   "source": [
    "# Setup"
   ]
  },
  {
   "cell_type": "markdown",
   "metadata": {
    "id": "Pusg6iIo9mwL"
   },
   "source": [
    "## 1. Install Dependencies"
   ]
  },
  {
   "cell_type": "code",
   "execution_count": 1,
   "metadata": {
    "id": "LKs_0Gy998vO"
   },
   "outputs": [],
   "source": [
    "%%capture\n",
    "!pip uninstall -y tensorflow\n",
    "!pip install transformers==2.8.0"
   ]
  },
  {
   "cell_type": "markdown",
   "metadata": {
    "id": "POgXAT5W-O0_"
   },
   "source": [
    "## 2. Data"
   ]
  },
  {
   "cell_type": "markdown",
   "metadata": {
    "id": "lYcNNEC1_C7g"
   },
   "source": [
    "We pretrained SpanBERTa on [OSCAR](https://traces1.inria.fr/oscar/)'s Spanish corpus. The full size of the dataset is 150 GB and we used a portion of 18 GB to train.\n",
    "\n",
    "In this example, for simplicity, we will use a dataset of Spanish movie subtitles from [OpenSubtitles](https://www.opensubtitles.org/en/search). This dataset has a size of 5.4 GB and we will train on a subset of ~300 MB."
   ]
  },
  {
   "cell_type": "code",
   "execution_count": 2,
   "metadata": {
    "colab": {
     "base_uri": "https://localhost:8080/"
    },
    "id": "_37ybc_P-X9r",
    "outputId": "a3b58a87-d317-41c6-f2a6-473b5d0c4d9f"
   },
   "outputs": [
    {
     "name": "stdout",
     "output_type": "stream",
     "text": [
      "--2022-08-06 17:26:48--  https://object.pouta.csc.fi/OPUS-OpenSubtitles/v2016/mono/es.txt.gz\n",
      "Resolving object.pouta.csc.fi (object.pouta.csc.fi)... 86.50.254.18, 86.50.254.19\n",
      "Connecting to object.pouta.csc.fi (object.pouta.csc.fi)|86.50.254.18|:443... connected.\n",
      "HTTP request sent, awaiting response... 200 OK\n",
      "Length: 1859673728 (1.7G) [application/gzip]\n",
      "Saving to: ‘dataset.txt.gz’\n",
      "\n",
      "dataset.txt.gz      100%[===================>]   1.73G  24.6MB/s    in 73s     \n",
      "\n",
      "2022-08-06 17:28:02 (24.2 MB/s) - ‘dataset.txt.gz’ saved [1859673728/1859673728]\n",
      "\n"
     ]
    }
   ],
   "source": [
    "import os\n",
    "\n",
    "# Download and unzip movie substitle dataset\n",
    "if not os.path.exists('data/dataset.txt'):\n",
    "  !wget \"https://object.pouta.csc.fi/OPUS-OpenSubtitles/v2016/mono/es.txt.gz\" -O dataset.txt.gz\n",
    "  !gzip -d dataset.txt.gz\n",
    "  !mkdir data\n",
    "  !mv dataset.txt data"
   ]
  },
  {
   "cell_type": "code",
   "execution_count": 3,
   "metadata": {
    "colab": {
     "base_uri": "https://localhost:8080/"
    },
    "id": "GaUNSZG2AI_S",
    "outputId": "25d1bb0c-9cac-4535-ec9c-74b580496c05"
   },
   "outputs": [
    {
     "name": "stdout",
     "output_type": "stream",
     "text": [
      "179287150 data/dataset.txt\n",
      "Te ves preciosa.\n",
      "Lo haremos en grande.\n",
      "La vaca de Hassan ha muerto.\n",
      "Totalmente sé como eso se siente.\n",
      "¿Quieres ayudar a tus amigos?\n"
     ]
    }
   ],
   "source": [
    "# Total number of lines and some random lines\n",
    "!wc -l data/dataset.txt\n",
    "!shuf -n 5 data/dataset.txt"
   ]
  },
  {
   "cell_type": "code",
   "execution_count": 4,
   "metadata": {
    "id": "aG56GRVuHGJB"
   },
   "outputs": [],
   "source": [
    "# Get a subset of first 1,000,000 lines for training\n",
    "TRAIN_SIZE = 1000000 #@param {type:\"integer\"}\n",
    "!(head -n $TRAIN_SIZE data/dataset.txt) > data/train.txt"
   ]
  },
  {
   "cell_type": "code",
   "execution_count": 5,
   "metadata": {
    "id": "8V9gs3XHV7ey"
   },
   "outputs": [],
   "source": [
    "# Get a subset of next 10,000 lines for validation\n",
    "VAL_SIZE = 10000 #@param {type:\"integer\"}\n",
    "!(sed -n {TRAIN_SIZE + 1},{TRAIN_SIZE + VAL_SIZE}p data/dataset.txt) > data/dev.txt"
   ]
  },
  {
   "cell_type": "markdown",
   "metadata": {
    "id": "4tBBtS-kAs_a"
   },
   "source": [
    "## 3. Train a Tokenizer"
   ]
  },
  {
   "cell_type": "markdown",
   "metadata": {
    "id": "nZXLfO2yEMAL"
   },
   "source": [
    "The original BERT implementation uses a WordPiece tokenizer with a vocabulary of 32K subword units. This method, however, can introduce \"unknown\" tokens when processing rare words.\n",
    "\n",
    "In this implementation, we use a byte-level BPE tokenizer with a vocabulary of 50,265 subword units (same as RoBERTa-base). Using byte-level BPE makes it possible to learn a subword vocabulary of modest size that can encode any input without getting \"unknown\" tokens.\n",
    "\n",
    "Because `ByteLevelBPETokenizer` produces 2 files `[\"vocab.json\", \"merges.txt\"]` while `BertWordPieceTokenizer` produces only 1 file `vocab.txt`, it will cause an error if we use `BertWordPieceTokenizer` to load outputs of a BPE tokenizer."
   ]
  },
  {
   "cell_type": "code",
   "execution_count": 6,
   "metadata": {
    "colab": {
     "base_uri": "https://localhost:8080/"
    },
    "id": "87Us5-wbCudj",
    "outputId": "b3971d99-5bb5-4540-d979-a8523dcbe7ae"
   },
   "outputs": [
    {
     "name": "stdout",
     "output_type": "stream",
     "text": [
      "CPU times: user 25 s, sys: 304 ms, total: 25.3 s\n",
      "Wall time: 25.3 s\n"
     ]
    }
   ],
   "source": [
    "%%time\n",
    "from tokenizers import ByteLevelBPETokenizer\n",
    "\n",
    "path = \"data/train.txt\"\n",
    "\n",
    "# Initialize a tokenizer\n",
    "tokenizer = ByteLevelBPETokenizer()\n",
    "\n",
    "# Customize training\n",
    "tokenizer.train(files=path,\n",
    "                vocab_size=50265,\n",
    "                min_frequency=2,\n",
    "                special_tokens=[\"<s>\", \"<pad>\", \"</s>\", \"<unk>\", \"<mask>\"])\n",
    "\n",
    "# Save files to disk\n",
    "!mkdir -p \"models/roberta\"\n",
    "tokenizer.save(\"models/roberta\")"
   ]
  },
  {
   "cell_type": "markdown",
   "metadata": {
    "id": "2zqvXwmYLjYV"
   },
   "source": [
    "# Traing Language Model from Scratch"
   ]
  },
  {
   "cell_type": "markdown",
   "metadata": {
    "id": "K02FBkSCN68f"
   },
   "source": [
    "## 1. Model Architecture"
   ]
  },
  {
   "cell_type": "markdown",
   "metadata": {
    "id": "RBX7cEtOPbCe"
   },
   "source": [
    "RoBERTa has exactly the same architecture as BERT. The only differences are:\n",
    "- RoBERTa uses a Byte-Level BPE tokenizer with a larger subword vocabulary (50k vs 32k).\n",
    "- RoBERTa implements dynamic word masking and drops next sentence prediction task.\n",
    "- RoBERTa's training hyperparameters.\n",
    "\n",
    "Other architecture configurations can be found in the documentation ([RoBERTa](https://huggingface.co/transformers/_modules/transformers/configuration_roberta.html#RobertaConfig), [BERT](https://huggingface.co/transformers/_modules/transformers/configuration_bert.html#BertConfig)).\n"
   ]
  },
  {
   "cell_type": "code",
   "execution_count": 7,
   "metadata": {
    "id": "faIaPSlMOH5P"
   },
   "outputs": [],
   "source": [
    "import json\n",
    "config = {\n",
    "\t\"architectures\": [\n",
    "\t\t\"RobertaForMaskedLM\"\n",
    "\t],\n",
    "\t\"attention_probs_dropout_prob\": 0.1,\n",
    "\t\"hidden_act\": \"gelu\",\n",
    "\t\"hidden_dropout_prob\": 0.1,\n",
    "\t\"hidden_size\": 768,\n",
    "\t\"initializer_range\": 0.02,\n",
    "\t\"intermediate_size\": 3072,\n",
    "\t\"layer_norm_eps\": 1e-05,\n",
    "\t\"max_position_embeddings\": 514,\n",
    "\t\"model_type\": \"roberta\",\n",
    "\t\"num_attention_heads\": 12,\n",
    "\t\"num_hidden_layers\": 12,\n",
    "\t\"type_vocab_size\": 1,\n",
    "\t\"vocab_size\": 50265\n",
    "}\n",
    "\n",
    "with open(\"models/roberta/config.json\", 'w') as fp:\n",
    "    json.dump(config, fp)\n",
    "\n",
    "tokenizer_config = {\"max_len\": 512}\n",
    "\n",
    "with open(\"models/roberta/tokenizer_config.json\", 'w') as fp:\n",
    "    json.dump(tokenizer_config, fp)"
   ]
  },
  {
   "cell_type": "markdown",
   "metadata": {
    "id": "EPenZXGwOOlo"
   },
   "source": [
    "## 2. Training Hyperparameters"
   ]
  },
  {
   "cell_type": "markdown",
   "metadata": {
    "id": "qb64aUvtSB6-"
   },
   "source": [
    "| Hyperparam          | BERT-base | RoBERTa-base |\n",
    "|---------------------|:---------:|:------------:|\n",
    "|Sequence Length      | 128, 512  | 512          |\n",
    "|Batch Size           | 256       | 8K           |\n",
    "|Peak Learning Rate   | 1e-4      | 6e-4         |\n",
    "|Max Steps            | 1M        | 500K         |\n",
    "|Warmup Steps         | 10K       | 24K          |\n",
    "|Weight Decay         | 0.01      | 0.01         |\n",
    "|Adam $\\epsilon$      | 1e-6      | 1e-6         |\n",
    "|Adam $\\beta_1$       | 0.9       | 0.9          |\n",
    "|Adam $\\beta_2$       | 0.999     | 0.98         |\n",
    "|Gradient Clipping    | 0.0       | 0.0          |\n",
    "\n",
    "Note the batch size when training RoBERTa is 8000. Therefore, although RoBERTa-base was trained for 500K steps, its training computational cost is 16 times that of BERT-base. In the [RoBERTa paper](https://arxiv.org/pdf/1907.11692.pdf), it is shown that training with large batches improves perplexity for the masked language modeling objective, as well as end-task accuracy. Larger batch size can be obtained by tweaking `gradient_accumulation_steps`.\n",
    "\n",
    "Due to computational constraint, we followed BERT-base's training schema and trained our SpanBERTa model using 4 Tesla P100 GPUs for 200K steps in 8 days."
   ]
  },
  {
   "cell_type": "markdown",
   "metadata": {
    "id": "R9B0sPSzSyNf"
   },
   "source": [
    "## 3. Start Training"
   ]
  },
  {
   "cell_type": "markdown",
   "metadata": {
    "id": "qSG-NPI5XCt2"
   },
   "source": [
    "We will train our model from scratch using [`run_language_modeling.py`](https://github.com/huggingface/transformers/blob/master/examples/run_language_modeling.py), a script provided by Hugging Face, which will preprocess, tokenize the corpus and train the model on *Masked Language Modeling* task. The script is optimized to train on a single big corpus. Therefore, if your dataset is large and you want to split it to train sequentially, you will need to modify the script, or be ready to get a monster machine with high memory."
   ]
  },
  {
   "cell_type": "code",
   "execution_count": 8,
   "metadata": {
    "colab": {
     "base_uri": "https://localhost:8080/"
    },
    "id": "kqNhz_sz8JKg",
    "outputId": "0504edc4-8465-447a-d4e4-1cd1bdc5bc01"
   },
   "outputs": [
    {
     "name": "stdout",
     "output_type": "stream",
     "text": [
      "--2022-08-06 17:53:44--  https://raw.githubusercontent.com/chriskhanhtran/spanish-bert/master/run_language_modeling.py\n",
      "Resolving raw.githubusercontent.com (raw.githubusercontent.com)... 185.199.108.133, 185.199.110.133, 185.199.109.133, ...\n",
      "Connecting to raw.githubusercontent.com (raw.githubusercontent.com)|185.199.108.133|:443... connected.\n",
      "HTTP request sent, awaiting response... 200 OK\n",
      "Length: 34328 (34K) [text/plain]\n",
      "Saving to: ‘run_language_modeling.py’\n",
      "\n",
      "\r",
      "run_language_modeli   0%[                    ]       0  --.-KB/s               \r",
      "run_language_modeli 100%[===================>]  33.52K  --.-KB/s    in 0.001s  \n",
      "\n",
      "2022-08-06 17:53:44 (30.3 MB/s) - ‘run_language_modeling.py’ saved [34328/34328]\n",
      "\n"
     ]
    }
   ],
   "source": [
    "# Update April 22, 2020: Hugging Face updated run_language_modeling.py script.\n",
    "# Please use this version which was before the update.\n",
    "!wget -c https://raw.githubusercontent.com/chriskhanhtran/spanish-bert/master/run_language_modeling.py"
   ]
  },
  {
   "cell_type": "markdown",
   "metadata": {
    "id": "icyuG1pZ8KYJ"
   },
   "source": [
    "**Important Arguments**\n",
    "- `--line_by_line` Whether distinct lines of text in the dataset are to be handled as distinct sequences. If each line in your dataset is long and has ~512 tokens or more, you should use this setting. If each line is short, the default text preprocessing will concatenate all lines, tokenize them and slit tokenized outputs into blocks of 512 tokens. You can also split your datasets into small chunks and preprocess them separately. 3GB of text will take ~50 minutes to process with the default `TextDataset` class.\n",
    "- `--should_continue` Whether to continue from latest checkpoint in output_dir.\n",
    "- `--model_name_or_path` The model checkpoint for weights initialization. Leave None if you want to train a model from scratch.\n",
    "- `--mlm` Train with masked-language modeling loss instead of language modeling.\n",
    "- `--config_name, --tokenizer_name` Optional pretrained config and tokenizer name or path if not the same as model_name_or_path. If both are None, initialize a new config.\n",
    "- `--per_gpu_train_batch_size` Batch size per GPU/CPU for training. Choose the largest number you can fit on your GPUs. You will see an error if your batch size is too large.\n",
    "- `--gradient_accumulation_steps` Number of updates steps to accumulate before performing a backward/update pass. You can use this trick to increase batch size. For example, if `per_gpu_train_batch_size = 16` and `gradient_accumulation_steps = 4`, your total train batch size will be 64.\n",
    "- `--overwrite_output_dir` Overwrite the content of the output directory.\n",
    "- `--no_cuda, --fp16, --fp16_opt_level` Arguments for training on GPU/CPU.\n",
    "- Other arguments are model paths and training hyperparameters.\n",
    "\n",
    "\n",
    "\n"
   ]
  },
  {
   "cell_type": "markdown",
   "metadata": {
    "id": "mTFxGYuZ7NO0"
   },
   "source": [
    "It's highly recommended to include model type (eg. \"roberta\", \"bert\", \"gpt2\" etc.) in the model path because the script uses the [`AutoModels`](https://huggingface.co/transformers/model_doc/auto.html?highlight=automodels) class to guess the model's configuration using pattern matching on the provided path."
   ]
  },
  {
   "cell_type": "code",
   "execution_count": 9,
   "metadata": {
    "id": "n9JX9k1oTJcz"
   },
   "outputs": [],
   "source": [
    "# Model paths\n",
    "MODEL_TYPE = \"roberta\" #@param [\"roberta\", \"bert\"]\n",
    "MODEL_DIR = \"models/roberta\" #@param {type: \"string\"}\n",
    "OUTPUT_DIR = \"models/roberta/output\" #@param {type: \"string\"}\n",
    "TRAIN_PATH = \"data/train.txt\" #@param {type: \"string\"}\n",
    "EVAL_PATH = \"data/dev.txt\" #@param {type: \"string\"}\n"
   ]
  },
  {
   "cell_type": "markdown",
   "metadata": {
    "id": "d8x5_vxhFlna"
   },
   "source": [
    "For this example, we will train for only 25 steps on a Tesla P4 GPU provided by Colab."
   ]
  },
  {
   "cell_type": "code",
   "execution_count": 10,
   "metadata": {
    "colab": {
     "base_uri": "https://localhost:8080/"
    },
    "id": "-XCGILJpFk5E",
    "outputId": "ddbe980f-403c-4286-e1b6-a53ae72f8caf"
   },
   "outputs": [
    {
     "name": "stdout",
     "output_type": "stream",
     "text": [
      "Sat Aug  6 17:54:05 2022       \n",
      "+-----------------------------------------------------------------------------+\n",
      "| NVIDIA-SMI 460.32.03    Driver Version: 460.32.03    CUDA Version: 11.2     |\n",
      "|-------------------------------+----------------------+----------------------+\n",
      "| GPU  Name        Persistence-M| Bus-Id        Disp.A | Volatile Uncorr. ECC |\n",
      "| Fan  Temp  Perf  Pwr:Usage/Cap|         Memory-Usage | GPU-Util  Compute M. |\n",
      "|                               |                      |               MIG M. |\n",
      "|===============================+======================+======================|\n",
      "|   0  Tesla T4            Off  | 00000000:00:04.0 Off |                    0 |\n",
      "| N/A   36C    P8     9W /  70W |      0MiB / 15109MiB |      0%      Default |\n",
      "|                               |                      |                  N/A |\n",
      "+-------------------------------+----------------------+----------------------+\n",
      "                                                                               \n",
      "+-----------------------------------------------------------------------------+\n",
      "| Processes:                                                                  |\n",
      "|  GPU   GI   CI        PID   Type   Process name                  GPU Memory |\n",
      "|        ID   ID                                                   Usage      |\n",
      "|=============================================================================|\n",
      "|  No running processes found                                                 |\n",
      "+-----------------------------------------------------------------------------+\n"
     ]
    }
   ],
   "source": [
    "!nvidia-smi"
   ]
  },
  {
   "cell_type": "code",
   "execution_count": 11,
   "metadata": {
    "id": "wXCI0wTQS1vL"
   },
   "outputs": [],
   "source": [
    "# Command line\n",
    "cmd = \"\"\"python run_language_modeling.py \\\n",
    "    --output_dir {output_dir} \\\n",
    "    --model_type {model_type} \\\n",
    "    --mlm \\\n",
    "    --config_name {config_name} \\\n",
    "    --tokenizer_name {tokenizer_name} \\\n",
    "    {line_by_line} \\\n",
    "    {should_continue} \\\n",
    "    {model_name_or_path} \\\n",
    "    --train_data_file {train_path} \\\n",
    "    --eval_data_file {eval_path} \\\n",
    "    --do_train \\\n",
    "    {do_eval} \\\n",
    "    {evaluate_during_training} \\\n",
    "    --overwrite_output_dir \\\n",
    "    --block_size 512 \\\n",
    "    --max_step 25 \\\n",
    "    --warmup_steps 10 \\\n",
    "    --learning_rate 5e-5 \\\n",
    "    --per_gpu_train_batch_size 4 \\\n",
    "    --gradient_accumulation_steps 4 \\\n",
    "    --weight_decay 0.01 \\\n",
    "    --adam_epsilon 1e-6 \\\n",
    "    --max_grad_norm 100.0 \\\n",
    "    --save_total_limit 10 \\\n",
    "    --save_steps 10 \\\n",
    "    --logging_steps 2 \\\n",
    "    --seed 42\n",
    "\"\"\""
   ]
  },
  {
   "cell_type": "code",
   "execution_count": 12,
   "metadata": {
    "id": "QoBqjQRuU6_f"
   },
   "outputs": [],
   "source": [
    "# Arguments for training from scratch. I turn off evaluate_during_training,\n",
    "#   line_by_line, should_continue, and model_name_or_path.\n",
    "train_params = {\n",
    "    \"output_dir\": OUTPUT_DIR,\n",
    "    \"model_type\": MODEL_TYPE,\n",
    "    \"config_name\": MODEL_DIR,\n",
    "    \"tokenizer_name\": MODEL_DIR,\n",
    "    \"train_path\": TRAIN_PATH,\n",
    "    \"eval_path\": EVAL_PATH,\n",
    "    \"do_eval\": \"--do_eval\",\n",
    "    \"evaluate_during_training\": \"\",\n",
    "    \"line_by_line\": \"\",\n",
    "    \"should_continue\": \"\",\n",
    "    \"model_name_or_path\": \"\",\n",
    "}"
   ]
  },
  {
   "cell_type": "markdown",
   "metadata": {
    "id": "0uBGZqcgT7xC"
   },
   "source": [
    "If you are training on a virtual machine, you can install tensorboard to monitor the training process. Here is our [Tensorboard](https://tensorboard.dev/experiment/4wOFJBwPRBK9wjKE6F32qQ/#scalars) for training SpanBERTa."
   ]
  },
  {
   "cell_type": "markdown",
   "metadata": {
    "id": "weh7hagGUR_m"
   },
   "source": [
    "```sh\n",
    "pip install tensorboard==2.1.0\n",
    "tensorboard dev upload --logdir runs\n",
    "```"
   ]
  },
  {
   "cell_type": "markdown",
   "metadata": {
    "id": "hrhhF6H3dk78"
   },
   "source": [
    "<img src=\"https://github.com/chriskhanhtran/spanish-bert/blob/master/img/tensorboard-spanberta.JPG?raw=true\" width=\"400\">\n",
    "\n",
    "*After 200k steps, the loss reached 1.8 and the perplexity reached 5.2.*"
   ]
  },
  {
   "cell_type": "markdown",
   "metadata": {
    "id": "hvynbMUkUhdy"
   },
   "source": [
    "Now let's start training!"
   ]
  },
  {
   "cell_type": "code",
   "execution_count": 13,
   "metadata": {
    "colab": {
     "base_uri": "https://localhost:8080/"
    },
    "id": "-SyKveBQVC7i",
    "outputId": "ccd12ec2-fb24-4d4f-9258-0174c37dbf9c"
   },
   "outputs": [
    {
     "name": "stdout",
     "output_type": "stream",
     "text": [
      "08/06/2022 17:54:47 - WARNING - __main__ -   Process rank: -1, device: cuda, n_gpu: 1, distributed training: False, 16-bits training: False\n",
      "08/06/2022 17:54:47 - INFO - transformers.configuration_utils -   loading configuration file models/roberta/config.json\n",
      "08/06/2022 17:54:47 - INFO - transformers.configuration_utils -   Model config RobertaConfig {\n",
      "  \"_num_labels\": 2,\n",
      "  \"architectures\": [\n",
      "    \"RobertaForMaskedLM\"\n",
      "  ],\n",
      "  \"attention_probs_dropout_prob\": 0.1,\n",
      "  \"bad_words_ids\": null,\n",
      "  \"bos_token_id\": 0,\n",
      "  \"decoder_start_token_id\": null,\n",
      "  \"do_sample\": false,\n",
      "  \"early_stopping\": false,\n",
      "  \"eos_token_id\": 2,\n",
      "  \"finetuning_task\": null,\n",
      "  \"hidden_act\": \"gelu\",\n",
      "  \"hidden_dropout_prob\": 0.1,\n",
      "  \"hidden_size\": 768,\n",
      "  \"id2label\": {\n",
      "    \"0\": \"LABEL_0\",\n",
      "    \"1\": \"LABEL_1\"\n",
      "  },\n",
      "  \"initializer_range\": 0.02,\n",
      "  \"intermediate_size\": 3072,\n",
      "  \"is_decoder\": false,\n",
      "  \"is_encoder_decoder\": false,\n",
      "  \"label2id\": {\n",
      "    \"LABEL_0\": 0,\n",
      "    \"LABEL_1\": 1\n",
      "  },\n",
      "  \"layer_norm_eps\": 1e-05,\n",
      "  \"length_penalty\": 1.0,\n",
      "  \"max_length\": 20,\n",
      "  \"max_position_embeddings\": 514,\n",
      "  \"min_length\": 0,\n",
      "  \"model_type\": \"roberta\",\n",
      "  \"no_repeat_ngram_size\": 0,\n",
      "  \"num_attention_heads\": 12,\n",
      "  \"num_beams\": 1,\n",
      "  \"num_hidden_layers\": 12,\n",
      "  \"num_return_sequences\": 1,\n",
      "  \"output_attentions\": false,\n",
      "  \"output_hidden_states\": false,\n",
      "  \"output_past\": true,\n",
      "  \"pad_token_id\": 1,\n",
      "  \"prefix\": null,\n",
      "  \"pruned_heads\": {},\n",
      "  \"repetition_penalty\": 1.0,\n",
      "  \"task_specific_params\": null,\n",
      "  \"temperature\": 1.0,\n",
      "  \"top_k\": 50,\n",
      "  \"top_p\": 1.0,\n",
      "  \"torchscript\": false,\n",
      "  \"type_vocab_size\": 1,\n",
      "  \"use_bfloat16\": false,\n",
      "  \"vocab_size\": 50265\n",
      "}\n",
      "\n",
      "08/06/2022 17:54:47 - INFO - transformers.configuration_utils -   loading configuration file models/roberta/config.json\n",
      "08/06/2022 17:54:47 - INFO - transformers.configuration_utils -   Model config RobertaConfig {\n",
      "  \"_num_labels\": 2,\n",
      "  \"architectures\": [\n",
      "    \"RobertaForMaskedLM\"\n",
      "  ],\n",
      "  \"attention_probs_dropout_prob\": 0.1,\n",
      "  \"bad_words_ids\": null,\n",
      "  \"bos_token_id\": 0,\n",
      "  \"decoder_start_token_id\": null,\n",
      "  \"do_sample\": false,\n",
      "  \"early_stopping\": false,\n",
      "  \"eos_token_id\": 2,\n",
      "  \"finetuning_task\": null,\n",
      "  \"hidden_act\": \"gelu\",\n",
      "  \"hidden_dropout_prob\": 0.1,\n",
      "  \"hidden_size\": 768,\n",
      "  \"id2label\": {\n",
      "    \"0\": \"LABEL_0\",\n",
      "    \"1\": \"LABEL_1\"\n",
      "  },\n",
      "  \"initializer_range\": 0.02,\n",
      "  \"intermediate_size\": 3072,\n",
      "  \"is_decoder\": false,\n",
      "  \"is_encoder_decoder\": false,\n",
      "  \"label2id\": {\n",
      "    \"LABEL_0\": 0,\n",
      "    \"LABEL_1\": 1\n",
      "  },\n",
      "  \"layer_norm_eps\": 1e-05,\n",
      "  \"length_penalty\": 1.0,\n",
      "  \"max_length\": 20,\n",
      "  \"max_position_embeddings\": 514,\n",
      "  \"min_length\": 0,\n",
      "  \"model_type\": \"roberta\",\n",
      "  \"no_repeat_ngram_size\": 0,\n",
      "  \"num_attention_heads\": 12,\n",
      "  \"num_beams\": 1,\n",
      "  \"num_hidden_layers\": 12,\n",
      "  \"num_return_sequences\": 1,\n",
      "  \"output_attentions\": false,\n",
      "  \"output_hidden_states\": false,\n",
      "  \"output_past\": true,\n",
      "  \"pad_token_id\": 1,\n",
      "  \"prefix\": null,\n",
      "  \"pruned_heads\": {},\n",
      "  \"repetition_penalty\": 1.0,\n",
      "  \"task_specific_params\": null,\n",
      "  \"temperature\": 1.0,\n",
      "  \"top_k\": 50,\n",
      "  \"top_p\": 1.0,\n",
      "  \"torchscript\": false,\n",
      "  \"type_vocab_size\": 1,\n",
      "  \"use_bfloat16\": false,\n",
      "  \"vocab_size\": 50265\n",
      "}\n",
      "\n",
      "08/06/2022 17:54:47 - INFO - transformers.tokenization_utils -   Model name 'models/roberta' not found in model shortcut name list (roberta-base, roberta-large, roberta-large-mnli, distilroberta-base, roberta-base-openai-detector, roberta-large-openai-detector). Assuming 'models/roberta' is a path, a model identifier, or url to a directory containing tokenizer files.\n",
      "08/06/2022 17:54:47 - INFO - transformers.tokenization_utils -   Didn't find file models/roberta/added_tokens.json. We won't load it.\n",
      "08/06/2022 17:54:47 - INFO - transformers.tokenization_utils -   Didn't find file models/roberta/special_tokens_map.json. We won't load it.\n",
      "08/06/2022 17:54:47 - INFO - transformers.tokenization_utils -   loading file models/roberta/vocab.json\n",
      "08/06/2022 17:54:47 - INFO - transformers.tokenization_utils -   loading file models/roberta/merges.txt\n",
      "08/06/2022 17:54:47 - INFO - transformers.tokenization_utils -   loading file None\n",
      "08/06/2022 17:54:47 - INFO - transformers.tokenization_utils -   loading file None\n",
      "08/06/2022 17:54:47 - INFO - transformers.tokenization_utils -   loading file models/roberta/tokenizer_config.json\n",
      "08/06/2022 17:54:48 - INFO - __main__ -   Training new model from scratch\n",
      "08/06/2022 17:54:56 - INFO - __main__ -   Training/evaluation parameters Namespace(adam_epsilon=1e-06, block_size=512, cache_dir=None, config_name='models/roberta', device=device(type='cuda'), do_eval=True, do_train=True, eval_all_checkpoints=False, eval_data_file='data/dev.txt', evaluate_during_training=False, fp16=False, fp16_opt_level='O1', gradient_accumulation_steps=4, learning_rate=5e-05, line_by_line=False, local_rank=-1, logging_steps=2, max_grad_norm=100.0, max_steps=25, mlm=True, mlm_probability=0.15, model_name_or_path=None, model_type='roberta', n_gpu=1, no_cuda=False, num_train_epochs=1.0, output_dir='models/roberta/output', overwrite_cache=False, overwrite_output_dir=True, per_gpu_eval_batch_size=4, per_gpu_train_batch_size=4, save_steps=10, save_total_limit=10, seed=42, server_ip='', server_port='', should_continue=False, tokenizer_name='models/roberta', train_data_file='data/train.txt', warmup_steps=10, weight_decay=0.01)\n",
      "08/06/2022 17:54:56 - INFO - __main__ -   Creating features from dataset file at data\n",
      "08/06/2022 17:55:26 - INFO - __main__ -   Saving features into cached file data/roberta_cached_lm_510_train.txt\n",
      "08/06/2022 17:55:27 - INFO - __main__ -   ***** Running training *****\n",
      "08/06/2022 17:55:27 - INFO - __main__ -     Num examples = 15932\n",
      "08/06/2022 17:55:27 - INFO - __main__ -     Num Epochs = 1\n",
      "08/06/2022 17:55:27 - INFO - __main__ -     Instantaneous batch size per GPU = 4\n",
      "08/06/2022 17:55:27 - INFO - __main__ -     Total train batch size (w. parallel, distributed & accumulation) = 16\n",
      "08/06/2022 17:55:27 - INFO - __main__ -     Gradient Accumulation steps = 4\n",
      "08/06/2022 17:55:27 - INFO - __main__ -     Total optimization steps = 25\n",
      "Epoch:   0% 0/1 [00:00<?, ?it/s]\n",
      "Iteration:   0% 0/3983 [00:00<?, ?it/s]\u001b[A\n",
      "Iteration:   0% 1/3983 [00:03<3:21:29,  3.04s/it]\u001b[A\n",
      "Iteration:   0% 2/3983 [00:03<1:40:56,  1.52s/it]\u001b[A\n",
      "Iteration:   0% 3/3983 [00:03<1:08:56,  1.04s/it]\u001b[A/usr/local/lib/python3.7/dist-packages/transformers/optimization.py:155: UserWarning: This overload of add_ is deprecated:\n",
      "\tadd_(Number alpha, Tensor other)\n",
      "Consider using one of the following signatures instead:\n",
      "\tadd_(Tensor other, *, Number alpha) (Triggered internally at  ../torch/csrc/utils/python_arg_parser.cpp:1174.)\n",
      "  exp_avg.mul_(beta1).add_(1.0 - beta1, grad)\n",
      "\n",
      "Iteration:   0% 4/3983 [00:04<55:38,  1.19it/s]  \u001b[A\n",
      "Iteration:   0% 5/3983 [00:04<46:29,  1.43it/s]\u001b[A\n",
      "Iteration:   0% 6/3983 [00:05<41:09,  1.61it/s]\u001b[A\n",
      "Iteration:   0% 7/3983 [00:05<37:40,  1.76it/s]\u001b[A/usr/local/lib/python3.7/dist-packages/torch/optim/lr_scheduler.py:249: UserWarning: To get the last learning rate computed by the scheduler, please use `get_last_lr()`.\n",
      "  warnings.warn(\"To get the last learning rate computed by the scheduler, \"\n",
      "\n",
      "Iteration:   0% 8/3983 [00:06<36:31,  1.81it/s]\u001b[A\n",
      "Iteration:   0% 9/3983 [00:06<34:38,  1.91it/s]\u001b[A\n",
      "Iteration:   0% 10/3983 [00:07<33:27,  1.98it/s]\u001b[A\n",
      "Iteration:   0% 11/3983 [00:07<32:34,  2.03it/s]\u001b[A\n",
      "Iteration:   0% 12/3983 [00:08<33:03,  2.00it/s]\u001b[A\n",
      "Iteration:   0% 13/3983 [00:08<32:14,  2.05it/s]\u001b[A\n",
      "Iteration:   0% 14/3983 [00:09<31:52,  2.08it/s]\u001b[A\n",
      "Iteration:   0% 15/3983 [00:09<31:30,  2.10it/s]\u001b[A\n",
      "Iteration:   0% 16/3983 [00:10<32:18,  2.05it/s]\u001b[A\n",
      "Iteration:   0% 17/3983 [00:10<31:48,  2.08it/s]\u001b[A\n",
      "Iteration:   0% 18/3983 [00:11<31:36,  2.09it/s]\u001b[A\n",
      "Iteration:   0% 19/3983 [00:11<31:25,  2.10it/s]\u001b[A\n",
      "Iteration:   1% 20/3983 [00:12<32:14,  2.05it/s]\u001b[A\n",
      "Iteration:   1% 21/3983 [00:12<31:42,  2.08it/s]\u001b[A\n",
      "Iteration:   1% 22/3983 [00:13<31:25,  2.10it/s]\u001b[A\n",
      "Iteration:   1% 23/3983 [00:13<31:09,  2.12it/s]\u001b[A\n",
      "Iteration:   1% 24/3983 [00:14<32:00,  2.06it/s]\u001b[A\n",
      "Iteration:   1% 25/3983 [00:14<31:33,  2.09it/s]\u001b[A\n",
      "Iteration:   1% 26/3983 [00:14<31:19,  2.11it/s]\u001b[A\n",
      "Iteration:   1% 27/3983 [00:15<31:07,  2.12it/s]\u001b[A\n",
      "Iteration:   1% 28/3983 [00:15<31:57,  2.06it/s]\u001b[A\n",
      "Iteration:   1% 29/3983 [00:16<31:29,  2.09it/s]\u001b[A\n",
      "Iteration:   1% 30/3983 [00:16<31:17,  2.11it/s]\u001b[A\n",
      "Iteration:   1% 31/3983 [00:17<31:05,  2.12it/s]\u001b[A\n",
      "Iteration:   1% 32/3983 [00:17<31:58,  2.06it/s]\u001b[A\n",
      "Iteration:   1% 33/3983 [00:18<31:30,  2.09it/s]\u001b[A\n",
      "Iteration:   1% 34/3983 [00:18<31:19,  2.10it/s]\u001b[A\n",
      "Iteration:   1% 35/3983 [00:19<31:13,  2.11it/s]\u001b[A\n",
      "Iteration:   1% 36/3983 [00:19<32:02,  2.05it/s]\u001b[A\n",
      "Iteration:   1% 37/3983 [00:20<31:36,  2.08it/s]\u001b[A\n",
      "Iteration:   1% 38/3983 [00:20<31:26,  2.09it/s]\u001b[A\n",
      "Iteration:   1% 39/3983 [00:21<31:13,  2.10it/s]\u001b[A08/06/2022 17:55:49 - INFO - transformers.configuration_utils -   Configuration saved in models/roberta/output/checkpoint-10/config.json\n",
      "08/06/2022 17:55:50 - INFO - transformers.modeling_utils -   Model weights saved in models/roberta/output/checkpoint-10/pytorch_model.bin\n",
      "08/06/2022 17:55:51 - INFO - __main__ -   Saving model checkpoint to models/roberta/output/checkpoint-10\n",
      "08/06/2022 17:55:54 - INFO - __main__ -   Saving optimizer and scheduler states to models/roberta/output/checkpoint-10\n",
      "\n",
      "Iteration:   1% 40/3983 [00:27<2:24:40,  2.20s/it]\u001b[A\n",
      "Iteration:   1% 41/3983 [00:28<1:55:06,  1.75s/it]\u001b[A\n",
      "Iteration:   1% 42/3983 [00:28<1:29:43,  1.37s/it]\u001b[A\n",
      "Iteration:   1% 43/3983 [00:29<1:12:09,  1.10s/it]\u001b[A\n",
      "Iteration:   1% 44/3983 [00:29<1:00:45,  1.08it/s]\u001b[A\n",
      "Iteration:   1% 45/3983 [00:30<51:41,  1.27it/s]  \u001b[A\n",
      "Iteration:   1% 46/3983 [00:30<45:27,  1.44it/s]\u001b[A\n",
      "Iteration:   1% 47/3983 [00:30<41:07,  1.59it/s]\u001b[A\n",
      "Iteration:   1% 48/3983 [00:31<39:02,  1.68it/s]\u001b[A\n",
      "Iteration:   1% 49/3983 [00:31<36:34,  1.79it/s]\u001b[A\n",
      "Iteration:   1% 50/3983 [00:32<35:00,  1.87it/s]\u001b[A\n",
      "Iteration:   1% 51/3983 [00:32<33:45,  1.94it/s]\u001b[A\n",
      "Iteration:   1% 52/3983 [00:33<34:01,  1.93it/s]\u001b[A\n",
      "Iteration:   1% 53/3983 [00:33<33:03,  1.98it/s]\u001b[A\n",
      "Iteration:   1% 54/3983 [00:34<32:30,  2.01it/s]\u001b[A\n",
      "Iteration:   1% 55/3983 [00:34<31:56,  2.05it/s]\u001b[A\n",
      "Iteration:   1% 56/3983 [00:35<32:37,  2.01it/s]\u001b[A\n",
      "Iteration:   1% 57/3983 [00:35<32:01,  2.04it/s]\u001b[A\n",
      "Iteration:   1% 58/3983 [00:36<31:42,  2.06it/s]\u001b[A\n",
      "Iteration:   1% 59/3983 [00:36<31:29,  2.08it/s]\u001b[A\n",
      "Iteration:   2% 60/3983 [00:37<32:13,  2.03it/s]\u001b[A\n",
      "Iteration:   2% 61/3983 [00:37<31:49,  2.05it/s]\u001b[A\n",
      "Iteration:   2% 62/3983 [00:38<31:33,  2.07it/s]\u001b[A\n",
      "Iteration:   2% 63/3983 [00:38<31:24,  2.08it/s]\u001b[A\n",
      "Iteration:   2% 64/3983 [00:39<32:15,  2.02it/s]\u001b[A\n",
      "Iteration:   2% 65/3983 [00:39<31:49,  2.05it/s]\u001b[A\n",
      "Iteration:   2% 66/3983 [00:40<31:35,  2.07it/s]\u001b[A\n",
      "Iteration:   2% 67/3983 [00:40<31:24,  2.08it/s]\u001b[A\n",
      "Iteration:   2% 68/3983 [00:41<32:14,  2.02it/s]\u001b[A\n",
      "Iteration:   2% 69/3983 [00:41<31:49,  2.05it/s]\u001b[A\n",
      "Iteration:   2% 70/3983 [00:42<31:33,  2.07it/s]\u001b[A\n",
      "Iteration:   2% 71/3983 [00:42<31:28,  2.07it/s]\u001b[A\n",
      "Iteration:   2% 72/3983 [00:43<32:23,  2.01it/s]\u001b[A\n",
      "Iteration:   2% 73/3983 [00:43<32:01,  2.03it/s]\u001b[A\n",
      "Iteration:   2% 74/3983 [00:44<31:46,  2.05it/s]\u001b[A\n",
      "Iteration:   2% 75/3983 [00:44<31:36,  2.06it/s]\u001b[A\n",
      "Iteration:   2% 76/3983 [00:45<32:22,  2.01it/s]\u001b[A\n",
      "Iteration:   2% 77/3983 [00:45<31:56,  2.04it/s]\u001b[A\n",
      "Iteration:   2% 78/3983 [00:46<31:42,  2.05it/s]\u001b[A\n",
      "Iteration:   2% 79/3983 [00:46<31:27,  2.07it/s]\u001b[A08/06/2022 17:56:14 - INFO - transformers.configuration_utils -   Configuration saved in models/roberta/output/checkpoint-20/config.json\n",
      "08/06/2022 17:56:15 - INFO - transformers.modeling_utils -   Model weights saved in models/roberta/output/checkpoint-20/pytorch_model.bin\n",
      "08/06/2022 17:56:15 - INFO - __main__ -   Saving model checkpoint to models/roberta/output/checkpoint-20\n",
      "08/06/2022 17:56:19 - INFO - __main__ -   Saving optimizer and scheduler states to models/roberta/output/checkpoint-20\n",
      "\n",
      "Iteration:   2% 80/3983 [00:52<2:20:05,  2.15s/it]\u001b[A\n",
      "Iteration:   2% 81/3983 [00:53<1:48:58,  1.68s/it]\u001b[A\n",
      "Iteration:   2% 82/3983 [00:53<1:25:34,  1.32s/it]\u001b[A\n",
      "Iteration:   2% 83/3983 [00:54<1:09:24,  1.07s/it]\u001b[A\n",
      "Iteration:   2% 84/3983 [00:54<58:57,  1.10it/s]  \u001b[A\n",
      "Iteration:   2% 85/3983 [00:55<50:38,  1.28it/s]\u001b[A\n",
      "Iteration:   2% 86/3983 [00:55<44:53,  1.45it/s]\u001b[A\n",
      "Iteration:   2% 87/3983 [00:56<40:42,  1.60it/s]\u001b[A\n",
      "Iteration:   2% 88/3983 [00:56<38:50,  1.67it/s]\u001b[A\n",
      "Iteration:   2% 89/3983 [00:57<36:26,  1.78it/s]\u001b[A\n",
      "Iteration:   2% 90/3983 [00:57<35:00,  1.85it/s]\u001b[A\n",
      "Iteration:   2% 91/3983 [00:58<33:51,  1.92it/s]\u001b[A\n",
      "Iteration:   2% 92/3983 [00:58<33:59,  1.91it/s]\u001b[A\n",
      "Iteration:   2% 93/3983 [00:59<33:03,  1.96it/s]\u001b[A\n",
      "Iteration:   2% 94/3983 [00:59<32:33,  1.99it/s]\u001b[A\n",
      "Iteration:   2% 95/3983 [01:00<32:09,  2.01it/s]\u001b[A\n",
      "Iteration:   2% 96/3983 [01:00<32:50,  1.97it/s]\u001b[A\n",
      "Iteration:   2% 97/3983 [01:01<32:18,  2.01it/s]\u001b[A\n",
      "Iteration:   2% 98/3983 [01:01<32:04,  2.02it/s]\u001b[A\n",
      "Iteration:   2% 99/3983 [01:02<31:50,  2.03it/s]\u001b[A\n",
      "Iteration:   3% 100/3983 [01:02<32:37,  1.98it/s]\u001b[A\n",
      "Iteration:   3% 101/3983 [01:03<32:13,  2.01it/s]\u001b[A\n",
      "Iteration:   3% 102/3983 [01:03<32:01,  2.02it/s]\u001b[A\n",
      "Iteration:   3% 103/3983 [01:04<40:33,  1.59it/s]\n",
      "Epoch:   0% 0/1 [01:04<?, ?it/s]\n",
      "08/06/2022 17:56:31 - INFO - __main__ -    global_step = 26, average loss = 9.33139206812932\n",
      "08/06/2022 17:56:31 - INFO - __main__ -   Saving model checkpoint to models/roberta/output\n",
      "08/06/2022 17:56:31 - INFO - transformers.configuration_utils -   Configuration saved in models/roberta/output/config.json\n",
      "08/06/2022 17:56:33 - INFO - transformers.modeling_utils -   Model weights saved in models/roberta/output/pytorch_model.bin\n",
      "08/06/2022 17:56:33 - INFO - transformers.configuration_utils -   loading configuration file models/roberta/output/config.json\n",
      "08/06/2022 17:56:33 - INFO - transformers.configuration_utils -   Model config RobertaConfig {\n",
      "  \"_num_labels\": 2,\n",
      "  \"architectures\": [\n",
      "    \"RobertaForMaskedLM\"\n",
      "  ],\n",
      "  \"attention_probs_dropout_prob\": 0.1,\n",
      "  \"bad_words_ids\": null,\n",
      "  \"bos_token_id\": 0,\n",
      "  \"decoder_start_token_id\": null,\n",
      "  \"do_sample\": false,\n",
      "  \"early_stopping\": false,\n",
      "  \"eos_token_id\": 2,\n",
      "  \"finetuning_task\": null,\n",
      "  \"hidden_act\": \"gelu\",\n",
      "  \"hidden_dropout_prob\": 0.1,\n",
      "  \"hidden_size\": 768,\n",
      "  \"id2label\": {\n",
      "    \"0\": \"LABEL_0\",\n",
      "    \"1\": \"LABEL_1\"\n",
      "  },\n",
      "  \"initializer_range\": 0.02,\n",
      "  \"intermediate_size\": 3072,\n",
      "  \"is_decoder\": false,\n",
      "  \"is_encoder_decoder\": false,\n",
      "  \"label2id\": {\n",
      "    \"LABEL_0\": 0,\n",
      "    \"LABEL_1\": 1\n",
      "  },\n",
      "  \"layer_norm_eps\": 1e-05,\n",
      "  \"length_penalty\": 1.0,\n",
      "  \"max_length\": 20,\n",
      "  \"max_position_embeddings\": 514,\n",
      "  \"min_length\": 0,\n",
      "  \"model_type\": \"roberta\",\n",
      "  \"no_repeat_ngram_size\": 0,\n",
      "  \"num_attention_heads\": 12,\n",
      "  \"num_beams\": 1,\n",
      "  \"num_hidden_layers\": 12,\n",
      "  \"num_return_sequences\": 1,\n",
      "  \"output_attentions\": false,\n",
      "  \"output_hidden_states\": false,\n",
      "  \"output_past\": true,\n",
      "  \"pad_token_id\": 1,\n",
      "  \"prefix\": null,\n",
      "  \"pruned_heads\": {},\n",
      "  \"repetition_penalty\": 1.0,\n",
      "  \"task_specific_params\": null,\n",
      "  \"temperature\": 1.0,\n",
      "  \"top_k\": 50,\n",
      "  \"top_p\": 1.0,\n",
      "  \"torchscript\": false,\n",
      "  \"type_vocab_size\": 1,\n",
      "  \"use_bfloat16\": false,\n",
      "  \"vocab_size\": 50265\n",
      "}\n",
      "\n",
      "08/06/2022 17:56:33 - INFO - transformers.modeling_utils -   loading weights file models/roberta/output/pytorch_model.bin\n",
      "08/06/2022 17:56:38 - INFO - transformers.configuration_utils -   loading configuration file models/roberta/output/config.json\n",
      "08/06/2022 17:56:38 - INFO - transformers.configuration_utils -   Model config RobertaConfig {\n",
      "  \"_num_labels\": 2,\n",
      "  \"architectures\": [\n",
      "    \"RobertaForMaskedLM\"\n",
      "  ],\n",
      "  \"attention_probs_dropout_prob\": 0.1,\n",
      "  \"bad_words_ids\": null,\n",
      "  \"bos_token_id\": 0,\n",
      "  \"decoder_start_token_id\": null,\n",
      "  \"do_sample\": false,\n",
      "  \"early_stopping\": false,\n",
      "  \"eos_token_id\": 2,\n",
      "  \"finetuning_task\": null,\n",
      "  \"hidden_act\": \"gelu\",\n",
      "  \"hidden_dropout_prob\": 0.1,\n",
      "  \"hidden_size\": 768,\n",
      "  \"id2label\": {\n",
      "    \"0\": \"LABEL_0\",\n",
      "    \"1\": \"LABEL_1\"\n",
      "  },\n",
      "  \"initializer_range\": 0.02,\n",
      "  \"intermediate_size\": 3072,\n",
      "  \"is_decoder\": false,\n",
      "  \"is_encoder_decoder\": false,\n",
      "  \"label2id\": {\n",
      "    \"LABEL_0\": 0,\n",
      "    \"LABEL_1\": 1\n",
      "  },\n",
      "  \"layer_norm_eps\": 1e-05,\n",
      "  \"length_penalty\": 1.0,\n",
      "  \"max_length\": 20,\n",
      "  \"max_position_embeddings\": 514,\n",
      "  \"min_length\": 0,\n",
      "  \"model_type\": \"roberta\",\n",
      "  \"no_repeat_ngram_size\": 0,\n",
      "  \"num_attention_heads\": 12,\n",
      "  \"num_beams\": 1,\n",
      "  \"num_hidden_layers\": 12,\n",
      "  \"num_return_sequences\": 1,\n",
      "  \"output_attentions\": false,\n",
      "  \"output_hidden_states\": false,\n",
      "  \"output_past\": true,\n",
      "  \"pad_token_id\": 1,\n",
      "  \"prefix\": null,\n",
      "  \"pruned_heads\": {},\n",
      "  \"repetition_penalty\": 1.0,\n",
      "  \"task_specific_params\": null,\n",
      "  \"temperature\": 1.0,\n",
      "  \"top_k\": 50,\n",
      "  \"top_p\": 1.0,\n",
      "  \"torchscript\": false,\n",
      "  \"type_vocab_size\": 1,\n",
      "  \"use_bfloat16\": false,\n",
      "  \"vocab_size\": 50265\n",
      "}\n",
      "\n",
      "08/06/2022 17:56:38 - INFO - transformers.tokenization_utils -   Model name 'models/roberta/output' not found in model shortcut name list (roberta-base, roberta-large, roberta-large-mnli, distilroberta-base, roberta-base-openai-detector, roberta-large-openai-detector). Assuming 'models/roberta/output' is a path, a model identifier, or url to a directory containing tokenizer files.\n",
      "08/06/2022 17:56:38 - INFO - transformers.tokenization_utils -   Didn't find file models/roberta/output/added_tokens.json. We won't load it.\n",
      "08/06/2022 17:56:38 - INFO - transformers.tokenization_utils -   loading file models/roberta/output/vocab.json\n",
      "08/06/2022 17:56:38 - INFO - transformers.tokenization_utils -   loading file models/roberta/output/merges.txt\n",
      "08/06/2022 17:56:38 - INFO - transformers.tokenization_utils -   loading file None\n",
      "08/06/2022 17:56:38 - INFO - transformers.tokenization_utils -   loading file models/roberta/output/special_tokens_map.json\n",
      "08/06/2022 17:56:38 - INFO - transformers.tokenization_utils -   loading file models/roberta/output/tokenizer_config.json\n",
      "08/06/2022 17:56:38 - INFO - __main__ -   Evaluate the following checkpoints: ['models/roberta/output']\n",
      "08/06/2022 17:56:38 - INFO - transformers.configuration_utils -   loading configuration file models/roberta/output/config.json\n",
      "08/06/2022 17:56:38 - INFO - transformers.configuration_utils -   Model config RobertaConfig {\n",
      "  \"_num_labels\": 2,\n",
      "  \"architectures\": [\n",
      "    \"RobertaForMaskedLM\"\n",
      "  ],\n",
      "  \"attention_probs_dropout_prob\": 0.1,\n",
      "  \"bad_words_ids\": null,\n",
      "  \"bos_token_id\": 0,\n",
      "  \"decoder_start_token_id\": null,\n",
      "  \"do_sample\": false,\n",
      "  \"early_stopping\": false,\n",
      "  \"eos_token_id\": 2,\n",
      "  \"finetuning_task\": null,\n",
      "  \"hidden_act\": \"gelu\",\n",
      "  \"hidden_dropout_prob\": 0.1,\n",
      "  \"hidden_size\": 768,\n",
      "  \"id2label\": {\n",
      "    \"0\": \"LABEL_0\",\n",
      "    \"1\": \"LABEL_1\"\n",
      "  },\n",
      "  \"initializer_range\": 0.02,\n",
      "  \"intermediate_size\": 3072,\n",
      "  \"is_decoder\": false,\n",
      "  \"is_encoder_decoder\": false,\n",
      "  \"label2id\": {\n",
      "    \"LABEL_0\": 0,\n",
      "    \"LABEL_1\": 1\n",
      "  },\n",
      "  \"layer_norm_eps\": 1e-05,\n",
      "  \"length_penalty\": 1.0,\n",
      "  \"max_length\": 20,\n",
      "  \"max_position_embeddings\": 514,\n",
      "  \"min_length\": 0,\n",
      "  \"model_type\": \"roberta\",\n",
      "  \"no_repeat_ngram_size\": 0,\n",
      "  \"num_attention_heads\": 12,\n",
      "  \"num_beams\": 1,\n",
      "  \"num_hidden_layers\": 12,\n",
      "  \"num_return_sequences\": 1,\n",
      "  \"output_attentions\": false,\n",
      "  \"output_hidden_states\": false,\n",
      "  \"output_past\": true,\n",
      "  \"pad_token_id\": 1,\n",
      "  \"prefix\": null,\n",
      "  \"pruned_heads\": {},\n",
      "  \"repetition_penalty\": 1.0,\n",
      "  \"task_specific_params\": null,\n",
      "  \"temperature\": 1.0,\n",
      "  \"top_k\": 50,\n",
      "  \"top_p\": 1.0,\n",
      "  \"torchscript\": false,\n",
      "  \"type_vocab_size\": 1,\n",
      "  \"use_bfloat16\": false,\n",
      "  \"vocab_size\": 50265\n",
      "}\n",
      "\n",
      "08/06/2022 17:56:38 - INFO - transformers.modeling_utils -   loading weights file models/roberta/output/pytorch_model.bin\n",
      "08/06/2022 17:56:44 - INFO - __main__ -   Creating features from dataset file at data\n",
      "08/06/2022 17:56:44 - INFO - __main__ -   Saving features into cached file data/roberta_cached_lm_510_dev.txt\n",
      "08/06/2022 17:56:44 - INFO - __main__ -   ***** Running evaluation  *****\n",
      "08/06/2022 17:56:44 - INFO - __main__ -     Num examples = 180\n",
      "08/06/2022 17:56:44 - INFO - __main__ -     Batch size = 4\n",
      "Evaluating: 100% 45/45 [00:07<00:00,  5.80it/s]\n",
      "08/06/2022 17:56:52 - INFO - __main__ -   ***** Eval results  *****\n",
      "08/06/2022 17:56:52 - INFO - __main__ -     perplexity = tensor(7340.6953)\n"
     ]
    }
   ],
   "source": [
    "!{cmd.format(**train_params)}"
   ]
  },
  {
   "cell_type": "markdown",
   "metadata": {
    "id": "jDf8zX0y5ACK"
   },
   "source": [
    "## 4. Predict Masked Words"
   ]
  },
  {
   "cell_type": "markdown",
   "metadata": {
    "id": "gevTp0eUfAiW"
   },
   "source": [
    "After training your language model, you can upload and share your model with the community. We have uploaded our SpanBERTa model to Hugging Face's server. Before evaluating the model on downstream tasks, let's see how it has learned to fill masked words given a context. "
   ]
  },
  {
   "cell_type": "code",
   "execution_count": 14,
   "metadata": {
    "id": "62wMhcySbetg"
   },
   "outputs": [],
   "source": [
    "%%capture\n",
    "%%time\n",
    "from transformers import pipeline\n",
    "\n",
    "fill_mask = pipeline(\n",
    "    \"fill-mask\",\n",
    "    model=\"chriskhanhtran/spanberta\",\n",
    "    tokenizer=\"chriskhanhtran/spanberta\"\n",
    ")"
   ]
  },
  {
   "cell_type": "markdown",
   "metadata": {
    "id": "SSA0FL4glNhQ"
   },
   "source": [
    "I pick a sentence from Wikipedia's article about COVID-19.\n",
    "\n",
    "The original sentence is \"*Lavarse frecuentemente las manos con agua y jabón,*\" meaning \"*Frequently wash your hands with soap and water.*\"\n",
    "\n",
    "The masked word is **\"jabón\" (soap)** and the top 5 predictions are **soap, salt, steam, lemon** and **vinegar**. It is interesting that the model somehow learns that we should wash our hands with things that can kill bacteria or contain acid."
   ]
  },
  {
   "cell_type": "code",
   "execution_count": 15,
   "metadata": {
    "colab": {
     "base_uri": "https://localhost:8080/"
    },
    "id": "-c0w1Xt2bnqR",
    "outputId": "c920f9fc-579e-47e6-c27e-540be14ac21b"
   },
   "outputs": [
    {
     "data": {
      "text/plain": [
       "[{'score': 0.6469588279724121,\n",
       "  'sequence': '<s> Lavarse frecuentemente las manos con agua y jabón.</s>',\n",
       "  'token': 18493},\n",
       " {'score': 0.06074419617652893,\n",
       "  'sequence': '<s> Lavarse frecuentemente las manos con agua y sal.</s>',\n",
       "  'token': 619},\n",
       " {'score': 0.029788384214043617,\n",
       "  'sequence': '<s> Lavarse frecuentemente las manos con agua y vapor.</s>',\n",
       "  'token': 11079},\n",
       " {'score': 0.026410432532429695,\n",
       "  'sequence': '<s> Lavarse frecuentemente las manos con agua y limón.</s>',\n",
       "  'token': 12788},\n",
       " {'score': 0.017029283568263054,\n",
       "  'sequence': '<s> Lavarse frecuentemente las manos con agua y vinagre.</s>',\n",
       "  'token': 18424}]"
      ]
     },
     "execution_count": 15,
     "metadata": {},
     "output_type": "execute_result"
    }
   ],
   "source": [
    "fill_mask(\"Lavarse frecuentemente las manos con agua y <mask>.\")"
   ]
  },
  {
   "cell_type": "markdown",
   "metadata": {
    "id": "Wx2rILSs9lck"
   },
   "source": [
    "# Conclusion"
   ]
  },
  {
   "cell_type": "markdown",
   "metadata": {
    "id": "vJLtZ1JP9pQL"
   },
   "source": [
    "We have walked through how to train a BERT language model for Spanish from scratch and seen that the model has learned properties of the language by trying to predict masked words given a context. You can also follow this article to fine-tune a pretrained BERT-like model on your customized dataset.\n",
    "\n",
    "Next, we will implement the pretrained models on downstream tasks including Sequence Classification, NER, POS tagging, and NLI, as well as compare the model's performance with some non-BERT models.\n",
    "\n",
    "Stay tuned for our next posts!"
   ]
  }
 ],
 "metadata": {
  "accelerator": "GPU",
  "colab": {
   "collapsed_sections": [],
   "name": "spanberta-pretraining-bert-from-scratch.ipynb",
   "provenance": []
  },
  "kernelspec": {
   "display_name": "Python 3 (ipykernel)",
   "language": "python",
   "name": "python3"
  },
  "language_info": {
   "codemirror_mode": {
    "name": "ipython",
    "version": 3
   },
   "file_extension": ".py",
   "mimetype": "text/x-python",
   "name": "python",
   "nbconvert_exporter": "python",
   "pygments_lexer": "ipython3",
   "version": "3.9.12"
  }
 },
 "nbformat": 4,
 "nbformat_minor": 1
}
