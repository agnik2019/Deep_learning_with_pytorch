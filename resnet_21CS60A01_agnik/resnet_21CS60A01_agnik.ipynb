{
 "cells": [
  {
   "cell_type": "markdown",
   "metadata": {},
   "source": [
    "## Downloading logs_resnet folder from google drive\n",
    "\n",
    "my logs_resnet folder is too big. So I kept it on google drive and the link is \n",
    "https://drive.google.com/drive/u/0/folders/1jQrCOB_hanuisX8gueD_wLhd8V3dYLlF"
   ]
  },
  {
   "cell_type": "code",
   "execution_count": null,
   "metadata": {},
   "outputs": [],
   "source": [
    "!pip install gdown"
   ]
  },
  {
   "cell_type": "code",
   "execution_count": 2,
   "metadata": {},
   "outputs": [
    {
     "data": {
      "text/plain": [
       "['/Users/agniksaha/Downloads/pytorch_cl2/resnet_21CS60A01_agnik/resnet_best.pth',\n",
       " '/Users/agniksaha/Downloads/pytorch_cl2/resnet_21CS60A01_agnik/resnet_false.pth']"
      ]
     },
     "execution_count": 2,
     "metadata": {},
     "output_type": "execute_result"
    }
   ],
   "source": [
    "import gdown\n",
    "url = \"https://drive.google.com/drive/u/0/folders/1jQrCOB_hanuisX8gueD_wLhd8V3dYLlF\"\n",
    "gdown.download_folder(url, quiet=True, use_cookies=False)"
   ]
  },
  {
   "cell_type": "markdown",
   "metadata": {},
   "source": [
    "### Importing necessary modules"
   ]
  },
  {
   "cell_type": "code",
   "execution_count": 3,
   "metadata": {},
   "outputs": [],
   "source": [
    "import torch\n",
    "import torch.nn as nn\n",
    "import torch.optim as optim\n",
    "import torchvision\n",
    "from torchvision import models, transforms\n",
    "import numpy as np\n",
    "import shutil\n",
    "import matplotlib.pyplot as plt"
   ]
  },
  {
   "cell_type": "markdown",
   "metadata": {},
   "source": [
    "Save the weights corresponding to the minimum validation loss in a folder\n",
    "‘logs_resnet/’\n",
    "I am creating two folders named checkpoints and logs_resnet.\n",
    "checkpoints will contain current checkpoints and logs_resnet will contain minimum validation loss"
   ]
  },
  {
   "cell_type": "code",
   "execution_count": 2,
   "metadata": {},
   "outputs": [],
   "source": [
    "%mkdir logs_resnet "
   ]
  },
  {
   "cell_type": "code",
   "execution_count": 2,
   "metadata": {},
   "outputs": [
    {
     "data": {
      "text/plain": [
       "<torch._C.Generator at 0x7fd7e0c977b0>"
      ]
     },
     "execution_count": 2,
     "metadata": {},
     "output_type": "execute_result"
    }
   ],
   "source": [
    "torch.manual_seed(1) # my roll is 21CS60A01..taking last two digits as 1"
   ]
  },
  {
   "cell_type": "markdown",
   "metadata": {},
   "source": [
    "### Loading training, validation and test dataset "
   ]
  },
  {
   "cell_type": "code",
   "execution_count": 3,
   "metadata": {},
   "outputs": [
    {
     "name": "stdout",
     "output_type": "stream",
     "text": [
      "18792 2808 5400\n",
      "(3, 64, 64) 7\n"
     ]
    }
   ],
   "source": [
    "import pickle\n",
    "with open(\"euroSAT_train_val_test.pkl\", 'rb') as f:\n",
    "    train_set, val_set, test_set = pickle.load(f)\n",
    "    print (len(train_set), len(val_set), len(test_set)) # 18792 2808 5400\n",
    "    print (train_set[0][0].shape, train_set[0][1]) # (3, 64, 64) 7"
   ]
  },
  {
   "cell_type": "markdown",
   "metadata": {},
   "source": [
    "###  Preparing train_loader , val_loader & test_loader"
   ]
  },
  {
   "cell_type": "code",
   "execution_count": 4,
   "metadata": {},
   "outputs": [],
   "source": [
    "from torch.utils.data import DataLoader\n",
    "\n",
    "train_loader  = DataLoader(train_set, batch_size = 64, shuffle= True)\n"
   ]
  },
  {
   "cell_type": "code",
   "execution_count": 5,
   "metadata": {},
   "outputs": [],
   "source": [
    "val_loader = torch.utils.data.DataLoader(val_set,batch_size=64, shuffle=False)"
   ]
  },
  {
   "cell_type": "code",
   "execution_count": 6,
   "metadata": {},
   "outputs": [],
   "source": [
    "test_loader=DataLoader(dataset=test_set, batch_size=64, shuffle=False)"
   ]
  },
  {
   "cell_type": "markdown",
   "metadata": {},
   "source": [
    "This is the device selection. If anyone has gpu, the model will be trained faster"
   ]
  },
  {
   "cell_type": "code",
   "execution_count": 6,
   "metadata": {},
   "outputs": [],
   "source": [
    "device = torch.device(\"cuda:0\" if torch.cuda.is_available() else \"cpu\")"
   ]
  },
  {
   "cell_type": "markdown",
   "metadata": {},
   "source": [
    "### train_model function trains the model and this function returns training accuracy and training loss"
   ]
  },
  {
   "cell_type": "code",
   "execution_count": 8,
   "metadata": {},
   "outputs": [],
   "source": [
    "def train_model(model, loss_function, optimizer, data_loader):\n",
    "    # set model to training mode\n",
    "    model.train()\n",
    "\n",
    "    current_loss = 0.0\n",
    "    current_acc = 0\n",
    "\n",
    "    # iterate over the training data\n",
    "    for i, (inputs, labels) in enumerate(data_loader):\n",
    "        # send the input/labels to the GPU\n",
    "        inputs = inputs.to(device)\n",
    "        labels = labels.to(device)\n",
    "\n",
    "        # zero the parameter gradients\n",
    "        optimizer.zero_grad()\n",
    "\n",
    "        with torch.set_grad_enabled(True):\n",
    "            # forward\n",
    "            outputs = model(inputs)\n",
    "            _, predictions = torch.max(outputs, 1)\n",
    "            loss = loss_function(outputs, labels)\n",
    "\n",
    "            # backward\n",
    "            loss.backward()\n",
    "            optimizer.step()\n",
    "\n",
    "        # statistics\n",
    "        current_loss += loss.item() * inputs.size(0)\n",
    "        current_acc += torch.sum(predictions == labels.data)\n",
    "\n",
    "    total_loss = current_loss / len(data_loader.dataset)\n",
    "    total_acc = current_acc.double() / len(data_loader.dataset)\n",
    "\n",
    "    print('Train Loss: {:.4f};    Train Accuracy: {:.4f}'.format(total_loss, total_acc))\n",
    "    return total_acc,total_loss"
   ]
  },
  {
   "cell_type": "markdown",
   "metadata": {},
   "source": [
    "### validate_model function test the model and this function returns test accuracy and test loss"
   ]
  },
  {
   "cell_type": "code",
   "execution_count": 9,
   "metadata": {},
   "outputs": [],
   "source": [
    "def validate_model(model, loss_function, data_loader):\n",
    "    # set model in evaluation mode\n",
    "    model.eval()\n",
    "\n",
    "    current_loss = 0.0\n",
    "    current_acc = 0\n",
    "\n",
    "    # iterate over  the validation data\n",
    "    for i, (inputs, labels) in enumerate(data_loader):\n",
    "        # send the input/labels to the GPU\n",
    "        inputs = inputs.to(device)\n",
    "        labels = labels.to(device)\n",
    "\n",
    "        # forward\n",
    "        with torch.set_grad_enabled(False):\n",
    "            outputs = model(inputs)\n",
    "            _, predictions = torch.max(outputs, 1)\n",
    "            loss = loss_function(outputs, labels)\n",
    "\n",
    "        # statistics\n",
    "        current_loss += loss.item() * inputs.size(0)\n",
    "        current_acc += torch.sum(predictions == labels.data)\n",
    "\n",
    "    total_loss = current_loss / len(data_loader.dataset)\n",
    "    total_acc = current_acc.double() / len(data_loader.dataset)\n",
    "\n",
    "    print('Validation Loss: {:.4f};    Validation Accuracy: {:.4f}'.format(total_loss, total_acc))\n",
    "    return total_acc,total_loss"
   ]
  },
  {
   "cell_type": "markdown",
   "metadata": {},
   "source": [
    "### Define our model"
   ]
  },
  {
   "cell_type": "code",
   "execution_count": 5,
   "metadata": {},
   "outputs": [],
   "source": [
    "def resnet_eurosat_classifier():\n",
    "    model = models.resnet18(pretrained=True)\n",
    "\n",
    "    # replace the last layer\n",
    "    num_features = model.fc.in_features\n",
    "    model.fc = nn.Linear(num_features, 10)\n",
    "\n",
    "    # transfer the model to the GPU\n",
    "    model = model.to(device)\n",
    "    return model"
   ]
  },
  {
   "cell_type": "markdown",
   "metadata": {},
   "source": [
    "### Model fitting step"
   ]
  },
  {
   "cell_type": "code",
   "execution_count": 11,
   "metadata": {},
   "outputs": [],
   "source": [
    "def fit(epochs,valid_loss_min):\n",
    "    # load the pre-trained model\n",
    "    best_acc = 0 # variable to store best accuracy\n",
    "    \n",
    "    # lists to store accuracies and losses\n",
    "    train_losses = []\n",
    "    train_accuracies = []\n",
    "    val_losses = []\n",
    "    val_accuracies = []\n",
    "    \n",
    "    # our model\n",
    "    model = resnet_eurosat_classifier()\n",
    "\n",
    "    # loss function\n",
    "    loss_function = nn.CrossEntropyLoss()\n",
    "\n",
    "    # We'll optimize all parameters\n",
    "    optimizer = optim.Adam(model.parameters())\n",
    "\n",
    "    # train\n",
    "    for epoch in range(epochs):\n",
    "        print('Epoch {}/{}'.format(epoch + 1, epochs))\n",
    "\n",
    "        train_acc, train_loss = train_model(model, loss_function, optimizer, train_loader)\n",
    "        val_acc, valid_loss = validate_model(model, loss_function, val_loader)\n",
    "        \n",
    "        train_losses.append(train_loss)\n",
    "        train_accuracies.append(train_acc)\n",
    "        val_losses.append(valid_loss)\n",
    "        val_accuracies.append(val_acc)       \n",
    "\n",
    "\n",
    "        \n",
    "        ## save the model if validation loss has decreased\n",
    "        if valid_loss <= valid_loss_min:\n",
    "            print('Validation loss decreased ({:.6f} --> {:.6f}).  Saving model ...'.format(valid_loss_min,valid_loss))\n",
    "            torch.save(model.state_dict(), './logs_resnet/resnet_best.pth')\n",
    "            valid_loss_min = valid_loss\n",
    "            \n",
    "        # implementing early stopping code\n",
    "        if val_acc > best_acc:\n",
    "            best_acc = val_acc\n",
    "            es = 0\n",
    "        else:\n",
    "            es += 1\n",
    "            print(\"Counter {} of 5 (early stopping)\".format(es))\n",
    "\n",
    "            if es > 4:\n",
    "                print(\"Early stopping with best_acc: \", best_acc, \"and val_acc for this epoch: \", val_acc, \"...\")\n",
    "                break\n",
    "                \n",
    "    return train_losses,train_accuracies,val_losses,val_accuracies\n"
   ]
  },
  {
   "cell_type": "code",
   "execution_count": 15,
   "metadata": {},
   "outputs": [
    {
     "name": "stdout",
     "output_type": "stream",
     "text": [
      "Epoch 1/15\n",
      "Train Loss: 0.3978;    Train Accuracy: 0.8748\n",
      "Validation Loss: 0.2755;    Validation Accuracy: 0.9117\n",
      "Validation loss decreased (inf --> 0.275550).  Saving model ...\n",
      "Epoch 2/15\n",
      "Train Loss: 0.2218;    Train Accuracy: 0.9308\n",
      "Validation Loss: 0.3236;    Validation Accuracy: 0.8978\n",
      "Counter 1 of 5 (early stopping)\n",
      "Epoch 3/15\n",
      "Train Loss: 0.1783;    Train Accuracy: 0.9432\n",
      "Validation Loss: 0.1983;    Validation Accuracy: 0.9402\n",
      "Validation loss decreased (0.275550 --> 0.198340).  Saving model ...\n",
      "Epoch 4/15\n",
      "Train Loss: 0.1328;    Train Accuracy: 0.9576\n",
      "Validation Loss: 0.1557;    Validation Accuracy: 0.9459\n",
      "Validation loss decreased (0.198340 --> 0.155703).  Saving model ...\n",
      "Epoch 5/15\n",
      "Train Loss: 0.1230;    Train Accuracy: 0.9626\n",
      "Validation Loss: 0.4340;    Validation Accuracy: 0.8729\n",
      "Counter 1 of 5 (early stopping)\n",
      "Epoch 6/15\n",
      "Train Loss: 0.0960;    Train Accuracy: 0.9685\n",
      "Validation Loss: 0.1901;    Validation Accuracy: 0.9423\n",
      "Counter 2 of 5 (early stopping)\n",
      "Epoch 7/15\n",
      "Train Loss: 0.0800;    Train Accuracy: 0.9742\n",
      "Validation Loss: 0.3930;    Validation Accuracy: 0.8871\n",
      "Counter 3 of 5 (early stopping)\n",
      "Epoch 8/15\n",
      "Train Loss: 0.0730;    Train Accuracy: 0.9761\n",
      "Validation Loss: 0.3176;    Validation Accuracy: 0.9135\n",
      "Counter 4 of 5 (early stopping)\n",
      "Epoch 9/15\n",
      "Train Loss: 0.0817;    Train Accuracy: 0.9740\n",
      "Validation Loss: 0.3596;    Validation Accuracy: 0.9110\n",
      "Counter 5 of 5 (early stopping)\n",
      "Early stopping with best_acc:  tensor(0.9459, dtype=torch.float64) and val_acc for this epoch:  tensor(0.9110, dtype=torch.float64) ...\n"
     ]
    }
   ],
   "source": [
    "valid_loss_min = np.Inf\n",
    "epochs=15\n",
    "train_losses,train_accuracies,val_losses,val_accuracies = fit(epochs,valid_loss_min)"
   ]
  },
  {
   "cell_type": "code",
   "execution_count": 16,
   "metadata": {},
   "outputs": [
    {
     "data": {
      "text/plain": [
       "[0.39784407510991904,\n",
       " 0.22179807837388016,\n",
       " 0.17827820412500608,\n",
       " 0.1327907278746836,\n",
       " 0.12300089768599125,\n",
       " 0.0959861059124011,\n",
       " 0.0800286940865539,\n",
       " 0.07301372567587404,\n",
       " 0.08173983323115422]"
      ]
     },
     "execution_count": 16,
     "metadata": {},
     "output_type": "execute_result"
    }
   ],
   "source": [
    "train_losses"
   ]
  },
  {
   "cell_type": "code",
   "execution_count": 17,
   "metadata": {},
   "outputs": [
    {
     "data": {
      "text/plain": [
       "[tensor(0.8748, dtype=torch.float64),\n",
       " tensor(0.9308, dtype=torch.float64),\n",
       " tensor(0.9432, dtype=torch.float64),\n",
       " tensor(0.9576, dtype=torch.float64),\n",
       " tensor(0.9626, dtype=torch.float64),\n",
       " tensor(0.9685, dtype=torch.float64),\n",
       " tensor(0.9742, dtype=torch.float64),\n",
       " tensor(0.9761, dtype=torch.float64),\n",
       " tensor(0.9740, dtype=torch.float64)]"
      ]
     },
     "execution_count": 17,
     "metadata": {},
     "output_type": "execute_result"
    }
   ],
   "source": [
    "train_accuracies "
   ]
  },
  {
   "cell_type": "code",
   "execution_count": 18,
   "metadata": {},
   "outputs": [
    {
     "data": {
      "text/plain": [
       "[0.2755497490663474,\n",
       " 0.32359387723468985,\n",
       " 0.19833961014564222,\n",
       " 0.1557029178764066,\n",
       " 0.4340145871510193,\n",
       " 0.1901016018838964,\n",
       " 0.39300194722295145,\n",
       " 0.317643141389912,\n",
       " 0.3596151396419927]"
      ]
     },
     "execution_count": 18,
     "metadata": {},
     "output_type": "execute_result"
    }
   ],
   "source": [
    "val_losses"
   ]
  },
  {
   "cell_type": "code",
   "execution_count": 19,
   "metadata": {},
   "outputs": [
    {
     "data": {
      "text/plain": [
       "[tensor(0.9117, dtype=torch.float64),\n",
       " tensor(0.8978, dtype=torch.float64),\n",
       " tensor(0.9402, dtype=torch.float64),\n",
       " tensor(0.9459, dtype=torch.float64),\n",
       " tensor(0.8729, dtype=torch.float64),\n",
       " tensor(0.9423, dtype=torch.float64),\n",
       " tensor(0.8871, dtype=torch.float64),\n",
       " tensor(0.9135, dtype=torch.float64),\n",
       " tensor(0.9110, dtype=torch.float64)]"
      ]
     },
     "execution_count": 19,
     "metadata": {},
     "output_type": "execute_result"
    }
   ],
   "source": [
    "val_accuracies"
   ]
  },
  {
   "cell_type": "markdown",
   "metadata": {},
   "source": [
    "## Plots of loss and accuracy on the training and validation sets"
   ]
  },
  {
   "cell_type": "code",
   "execution_count": 27,
   "metadata": {},
   "outputs": [],
   "source": [
    "# importing the required module\n",
    "def plot_accuracies(train_accuracies,val_accuracies):\n",
    "    plt.plot(train_accuracies, '-rx')\n",
    "    plt.plot(val_accuracies, '-bx')\n",
    "    plt.xlabel('epoch')\n",
    "    plt.ylabel('accuracy')\n",
    "    plt.legend(['Training', 'Validation'])\n",
    "    plt.title('Accuracy vs. No. of epochs')\n",
    "\n",
    "    "
   ]
  },
  {
   "cell_type": "code",
   "execution_count": 20,
   "metadata": {},
   "outputs": [
    {
     "data": {
      "image/png": "[encoded data removed]",
      "text/plain": [
       "<Figure size 432x288 with 1 Axes>"
      ]
     },
     "metadata": {
      "needs_background": "light"
     },
     "output_type": "display_data"
    }
   ],
   "source": [
    "plot_accuracies(train_accuracies,val_accuracies)"
   ]
  },
  {
   "cell_type": "code",
   "execution_count": 29,
   "metadata": {},
   "outputs": [],
   "source": [
    "def plot_losses(train_losses,val_losses):\n",
    "    plt.plot(train_losses, '-rx')\n",
    "    plt.plot(val_losses, '-bx')\n",
    "    plt.xlabel('epoch')\n",
    "    plt.ylabel('loss')\n",
    "    plt.legend(['Training', 'Validation'])\n",
    "    plt.title('loss vs. No. of epochs')\n",
    "\n",
    "    "
   ]
  },
  {
   "cell_type": "code",
   "execution_count": 21,
   "metadata": {},
   "outputs": [
    {
     "data": {
      "image/png": "[encoded data removed]",
      "text/plain": [
       "<Figure size 432x288 with 1 Axes>"
      ]
     },
     "metadata": {
      "needs_background": "light"
     },
     "output_type": "display_data"
    }
   ],
   "source": [
    "plot_losses(train_losses,val_losses)"
   ]
  },
  {
   "cell_type": "markdown",
   "metadata": {},
   "source": [
    "## Loading the model\n",
    "- Load the state dict to the model\n"
   ]
  },
  {
   "cell_type": "code",
   "execution_count": 7,
   "metadata": {},
   "outputs": [
    {
     "data": {
      "text/plain": [
       "ResNet(\n",
       "  (conv1): Conv2d(3, 64, kernel_size=(7, 7), stride=(2, 2), padding=(3, 3), bias=False)\n",
       "  (bn1): BatchNorm2d(64, eps=1e-05, momentum=0.1, affine=True, track_running_stats=True)\n",
       "  (relu): ReLU(inplace=True)\n",
       "  (maxpool): MaxPool2d(kernel_size=3, stride=2, padding=1, dilation=1, ceil_mode=False)\n",
       "  (layer1): Sequential(\n",
       "    (0): BasicBlock(\n",
       "      (conv1): Conv2d(64, 64, kernel_size=(3, 3), stride=(1, 1), padding=(1, 1), bias=False)\n",
       "      (bn1): BatchNorm2d(64, eps=1e-05, momentum=0.1, affine=True, track_running_stats=True)\n",
       "      (relu): ReLU(inplace=True)\n",
       "      (conv2): Conv2d(64, 64, kernel_size=(3, 3), stride=(1, 1), padding=(1, 1), bias=False)\n",
       "      (bn2): BatchNorm2d(64, eps=1e-05, momentum=0.1, affine=True, track_running_stats=True)\n",
       "    )\n",
       "    (1): BasicBlock(\n",
       "      (conv1): Conv2d(64, 64, kernel_size=(3, 3), stride=(1, 1), padding=(1, 1), bias=False)\n",
       "      (bn1): BatchNorm2d(64, eps=1e-05, momentum=0.1, affine=True, track_running_stats=True)\n",
       "      (relu): ReLU(inplace=True)\n",
       "      (conv2): Conv2d(64, 64, kernel_size=(3, 3), stride=(1, 1), padding=(1, 1), bias=False)\n",
       "      (bn2): BatchNorm2d(64, eps=1e-05, momentum=0.1, affine=True, track_running_stats=True)\n",
       "    )\n",
       "  )\n",
       "  (layer2): Sequential(\n",
       "    (0): BasicBlock(\n",
       "      (conv1): Conv2d(64, 128, kernel_size=(3, 3), stride=(2, 2), padding=(1, 1), bias=False)\n",
       "      (bn1): BatchNorm2d(128, eps=1e-05, momentum=0.1, affine=True, track_running_stats=True)\n",
       "      (relu): ReLU(inplace=True)\n",
       "      (conv2): Conv2d(128, 128, kernel_size=(3, 3), stride=(1, 1), padding=(1, 1), bias=False)\n",
       "      (bn2): BatchNorm2d(128, eps=1e-05, momentum=0.1, affine=True, track_running_stats=True)\n",
       "      (downsample): Sequential(\n",
       "        (0): Conv2d(64, 128, kernel_size=(1, 1), stride=(2, 2), bias=False)\n",
       "        (1): BatchNorm2d(128, eps=1e-05, momentum=0.1, affine=True, track_running_stats=True)\n",
       "      )\n",
       "    )\n",
       "    (1): BasicBlock(\n",
       "      (conv1): Conv2d(128, 128, kernel_size=(3, 3), stride=(1, 1), padding=(1, 1), bias=False)\n",
       "      (bn1): BatchNorm2d(128, eps=1e-05, momentum=0.1, affine=True, track_running_stats=True)\n",
       "      (relu): ReLU(inplace=True)\n",
       "      (conv2): Conv2d(128, 128, kernel_size=(3, 3), stride=(1, 1), padding=(1, 1), bias=False)\n",
       "      (bn2): BatchNorm2d(128, eps=1e-05, momentum=0.1, affine=True, track_running_stats=True)\n",
       "    )\n",
       "  )\n",
       "  (layer3): Sequential(\n",
       "    (0): BasicBlock(\n",
       "      (conv1): Conv2d(128, 256, kernel_size=(3, 3), stride=(2, 2), padding=(1, 1), bias=False)\n",
       "      (bn1): BatchNorm2d(256, eps=1e-05, momentum=0.1, affine=True, track_running_stats=True)\n",
       "      (relu): ReLU(inplace=True)\n",
       "      (conv2): Conv2d(256, 256, kernel_size=(3, 3), stride=(1, 1), padding=(1, 1), bias=False)\n",
       "      (bn2): BatchNorm2d(256, eps=1e-05, momentum=0.1, affine=True, track_running_stats=True)\n",
       "      (downsample): Sequential(\n",
       "        (0): Conv2d(128, 256, kernel_size=(1, 1), stride=(2, 2), bias=False)\n",
       "        (1): BatchNorm2d(256, eps=1e-05, momentum=0.1, affine=True, track_running_stats=True)\n",
       "      )\n",
       "    )\n",
       "    (1): BasicBlock(\n",
       "      (conv1): Conv2d(256, 256, kernel_size=(3, 3), stride=(1, 1), padding=(1, 1), bias=False)\n",
       "      (bn1): BatchNorm2d(256, eps=1e-05, momentum=0.1, affine=True, track_running_stats=True)\n",
       "      (relu): ReLU(inplace=True)\n",
       "      (conv2): Conv2d(256, 256, kernel_size=(3, 3), stride=(1, 1), padding=(1, 1), bias=False)\n",
       "      (bn2): BatchNorm2d(256, eps=1e-05, momentum=0.1, affine=True, track_running_stats=True)\n",
       "    )\n",
       "  )\n",
       "  (layer4): Sequential(\n",
       "    (0): BasicBlock(\n",
       "      (conv1): Conv2d(256, 512, kernel_size=(3, 3), stride=(2, 2), padding=(1, 1), bias=False)\n",
       "      (bn1): BatchNorm2d(512, eps=1e-05, momentum=0.1, affine=True, track_running_stats=True)\n",
       "      (relu): ReLU(inplace=True)\n",
       "      (conv2): Conv2d(512, 512, kernel_size=(3, 3), stride=(1, 1), padding=(1, 1), bias=False)\n",
       "      (bn2): BatchNorm2d(512, eps=1e-05, momentum=0.1, affine=True, track_running_stats=True)\n",
       "      (downsample): Sequential(\n",
       "        (0): Conv2d(256, 512, kernel_size=(1, 1), stride=(2, 2), bias=False)\n",
       "        (1): BatchNorm2d(512, eps=1e-05, momentum=0.1, affine=True, track_running_stats=True)\n",
       "      )\n",
       "    )\n",
       "    (1): BasicBlock(\n",
       "      (conv1): Conv2d(512, 512, kernel_size=(3, 3), stride=(1, 1), padding=(1, 1), bias=False)\n",
       "      (bn1): BatchNorm2d(512, eps=1e-05, momentum=0.1, affine=True, track_running_stats=True)\n",
       "      (relu): ReLU(inplace=True)\n",
       "      (conv2): Conv2d(512, 512, kernel_size=(3, 3), stride=(1, 1), padding=(1, 1), bias=False)\n",
       "      (bn2): BatchNorm2d(512, eps=1e-05, momentum=0.1, affine=True, track_running_stats=True)\n",
       "    )\n",
       "  )\n",
       "  (avgpool): AdaptiveAvgPool2d(output_size=(1, 1))\n",
       "  (fc): Linear(in_features=512, out_features=10, bias=True)\n",
       ")"
      ]
     },
     "execution_count": 7,
     "metadata": {},
     "output_type": "execute_result"
    }
   ],
   "source": [
    "model = resnet_eurosat_classifier()\n",
    "#model.load_state_dict(torch.load('./logs_resnet/resnet_best.pth'))\n",
    "model.load_state_dict(torch.load('./resnet_best.pth'))\n",
    "model.to(device)"
   ]
  },
  {
   "cell_type": "markdown",
   "metadata": {},
   "source": [
    "## Output the predicted value from a test dataset"
   ]
  },
  {
   "cell_type": "code",
   "execution_count": 31,
   "metadata": {},
   "outputs": [],
   "source": [
    "def get_all_preds(model, loader):\n",
    "    preds = torch.tensor([])\n",
    "    true_labels = torch.tensor([])\n",
    "    with torch.no_grad():\n",
    "        for images, labels in loader:\n",
    "            images = images.to(device)\n",
    "            labels = labels.to(device)\n",
    "            outputs = model(images)\n",
    "            _, predicted = torch.max(outputs, 1)\n",
    "            true_labels = torch.cat((true_labels,labels),dim = 0)\n",
    "            preds = torch.cat((preds,predicted),dim = 0)\n",
    "    return true_labels,preds"
   ]
  },
  {
   "cell_type": "markdown",
   "metadata": {},
   "source": [
    "### REPORT THE ACCURACY ON TEST DATA"
   ]
  },
  {
   "cell_type": "code",
   "execution_count": 14,
   "metadata": {},
   "outputs": [],
   "source": [
    "labels,preds = get_all_preds(model, test_loader)"
   ]
  },
  {
   "cell_type": "code",
   "execution_count": 15,
   "metadata": {},
   "outputs": [
    {
     "name": "stdout",
     "output_type": "stream",
     "text": [
      "Accuracy of test data is 0.9448148148148148\n",
      "\n"
     ]
    }
   ],
   "source": [
    "count = 0\n",
    "for i in range(len(labels)):\n",
    "    if preds[i] == labels[i]:\n",
    "        count = count+1\n",
    "acc_test = count/ len(labels)\n",
    "print(f'Accuracy of test data is {acc_test}\\n')"
   ]
  },
  {
   "cell_type": "markdown",
   "metadata": {},
   "source": [
    "### REPORT THE VALIDATION ACCURACY ON TEST DATA"
   ]
  },
  {
   "cell_type": "code",
   "execution_count": 16,
   "metadata": {},
   "outputs": [
    {
     "name": "stdout",
     "output_type": "stream",
     "text": [
      "Accuracy of validation data is 0.9415954415954416\n",
      "\n"
     ]
    }
   ],
   "source": [
    "labels_val,preds_val = get_all_preds(model, val_loader)\n",
    "count1 = 0\n",
    "for i in range(len(labels_val)):\n",
    "    if preds_val[i] == labels_val[i]:\n",
    "        count1 = count1+1\n",
    "acc_val = count1/ len(labels_val)\n",
    "print(f'Accuracy of validation data is {acc_val}\\n')"
   ]
  },
  {
   "cell_type": "markdown",
   "metadata": {},
   "source": [
    "## Show the recall for each class"
   ]
  },
  {
   "cell_type": "code",
   "execution_count": 29,
   "metadata": {},
   "outputs": [],
   "source": [
    "from sklearn.metrics import recall_score"
   ]
  },
  {
   "cell_type": "code",
   "execution_count": 30,
   "metadata": {},
   "outputs": [
    {
     "name": "stdout",
     "output_type": "stream",
     "text": [
      "[0.96       0.98       0.89333333 0.942      0.966      0.9075\n",
      " 0.884      0.98333333 0.922      0.98666667]\n"
     ]
    }
   ],
   "source": [
    "y_true, y_pred = get_all_preds(model, test_loader)\n",
    "y_true = y_true.tolist()\n",
    "y_pred = y_pred.tolist()\n",
    "recall = recall_score(y_true, y_pred, average=None)\n",
    "print(recall)"
   ]
  },
  {
   "cell_type": "markdown",
   "metadata": {},
   "source": [
    "### Write the results for test data for submission on kaggle"
   ]
  },
  {
   "cell_type": "code",
   "execution_count": 31,
   "metadata": {},
   "outputs": [],
   "source": [
    "labels,preds = get_all_preds(model, test_loader)"
   ]
  },
  {
   "cell_type": "code",
   "execution_count": 32,
   "metadata": {},
   "outputs": [],
   "source": [
    "preds = [int(x) for x in preds]"
   ]
  },
  {
   "cell_type": "code",
   "execution_count": 33,
   "metadata": {},
   "outputs": [],
   "source": [
    "f = open(\"agnik_result_task_2.csv\", \"w+\")\n",
    "f.write(f'id,label\\n')\n",
    "count = 0\n",
    "for pred in preds:\n",
    "    f.write(f'{count},{pred}\\n')\n",
    "    count = count+1\n",
    "f.close()"
   ]
  },
  {
   "cell_type": "code",
   "execution_count": 34,
   "metadata": {},
   "outputs": [],
   "source": [
    "classes = ['AnnualCrop','Forest','HerbaceousVegetation','Highway','Industrial','Pasture','PermanentCrop','Residential','River','SeaLake']"
   ]
  },
  {
   "cell_type": "code",
   "execution_count": 35,
   "metadata": {},
   "outputs": [
    {
     "name": "stdout",
     "output_type": "stream",
     "text": [
      "Accuracy of the network: 94.48148148148148 %\n",
      "Accuracy of AnnualCrop: 100.0 %\n",
      "Accuracy of Forest: 97.43589743589743 %\n",
      "Accuracy of HerbaceousVegetation: 93.93939393939394 %\n",
      "Accuracy of Highway: 96.96969696969697 %\n",
      "Accuracy of Industrial: 97.14285714285714 %\n",
      "Accuracy of Pasture: 100.0 %\n",
      "Accuracy of PermanentCrop: 84.0 %\n",
      "Accuracy of Residential: 97.5 %\n",
      "Accuracy of River: 90.3225806451613 %\n",
      "Accuracy of SeaLake: 97.72727272727273 %\n"
     ]
    }
   ],
   "source": [
    "batch_size = 4\n",
    "with torch.no_grad():\n",
    "    n_correct = 0\n",
    "    n_samples = 0\n",
    "    n_class_correct = [0 for i in range(10)]\n",
    "    n_class_samples = [0 for i in range(10)]\n",
    "    for images, labels in test_loader:\n",
    "        images = images.to(device)\n",
    "        labels = labels.to(device)\n",
    "        outputs = model(images)\n",
    "        # max returns (value ,index)\n",
    "        _, predicted = torch.max(outputs, 1)\n",
    "        n_samples += labels.size(0)\n",
    "        n_correct += (predicted == labels).sum().item()\n",
    "        \n",
    "        for i in range(batch_size):\n",
    "            label = labels[i]\n",
    "            pred = predicted[i]\n",
    "            if (label == pred):\n",
    "                n_class_correct[label] += 1\n",
    "            n_class_samples[label] += 1\n",
    "\n",
    "    acc = 100.0 * n_correct / n_samples\n",
    "    print(f'Accuracy of the network: {acc} %')\n",
    "\n",
    "    for i in range(10):\n",
    "        acc = 100.0 * n_class_correct[i] / n_class_samples[i]\n",
    "        print(f'Accuracy of {classes[i]}: {acc} %')\n"
   ]
  },
  {
   "cell_type": "markdown",
   "metadata": {},
   "source": [
    "### Plot four examples the model got wrong and was most confident about. Also add the true class and the predicted class along with the image. One such example is shown below"
   ]
  },
  {
   "cell_type": "code",
   "execution_count": 36,
   "metadata": {},
   "outputs": [],
   "source": [
    "classes = ['AnnualCrop','Forest','HerbaceousVegetation','Highway','Industrial','Pasture','PermanentCrop','Residential','River','SeaLake']\n"
   ]
  },
  {
   "cell_type": "code",
   "execution_count": 37,
   "metadata": {},
   "outputs": [
    {
     "data": {
      "text/plain": [
       "numpy.ndarray"
      ]
     },
     "execution_count": 37,
     "metadata": {},
     "output_type": "execute_result"
    }
   ],
   "source": [
    "type(recall)"
   ]
  },
  {
   "cell_type": "code",
   "execution_count": 38,
   "metadata": {},
   "outputs": [],
   "source": [
    "# recall means the percentage of a certain class correctly identified\n",
    "# model was confident about the class whose recall value is maximum\n",
    "recall_list = list(recall)"
   ]
  },
  {
   "cell_type": "code",
   "execution_count": 39,
   "metadata": {},
   "outputs": [
    {
     "data": {
      "text/plain": [
       "[0.96,\n",
       " 0.98,\n",
       " 0.8933333333333333,\n",
       " 0.942,\n",
       " 0.966,\n",
       " 0.9075,\n",
       " 0.884,\n",
       " 0.9833333333333333,\n",
       " 0.922,\n",
       " 0.9866666666666667]"
      ]
     },
     "execution_count": 39,
     "metadata": {},
     "output_type": "execute_result"
    }
   ],
   "source": [
    "recall_list"
   ]
  },
  {
   "cell_type": "code",
   "execution_count": 40,
   "metadata": {},
   "outputs": [
    {
     "data": {
      "text/plain": [
       "9"
      ]
     },
     "execution_count": 40,
     "metadata": {},
     "output_type": "execute_result"
    }
   ],
   "source": [
    "max_recall_val = recall_list.index(max(recall_list))\n",
    "max_recall_val"
   ]
  },
  {
   "cell_type": "markdown",
   "metadata": {},
   "source": [
    "### Seperating Test_images, their true labels and their predicted labels for my convinience"
   ]
  },
  {
   "cell_type": "code",
   "execution_count": 41,
   "metadata": {},
   "outputs": [],
   "source": [
    "preds = torch.tensor([])\n",
    "img_test = torch.tensor([])\n",
    "label_test = torch.tensor([])\n",
    "with torch.no_grad():\n",
    "    for images, labels in test_loader:\n",
    "        images = images.to(device)\n",
    "        labels = labels.to(device)\n",
    "        outputs = model(images)\n",
    "        _, predicted = torch.max(outputs, 1)\n",
    "        label_test = torch.cat((label_test,labels),dim = 0)\n",
    "        img_test = torch.cat((images,img_test),dim = 0)\n",
    "        preds = torch.cat((preds,predicted),dim = 0)"
   ]
  },
  {
   "cell_type": "code",
   "execution_count": 42,
   "metadata": {},
   "outputs": [],
   "source": [
    "preds = [int(x) for x in preds]\n"
   ]
  },
  {
   "cell_type": "code",
   "execution_count": 43,
   "metadata": {},
   "outputs": [],
   "source": [
    "import matplotlib.pyplot as plt\n",
    "def show_img(img):\n",
    "    plt.imshow(img.permute(1,2,0))"
   ]
  },
  {
   "cell_type": "code",
   "execution_count": 44,
   "metadata": {},
   "outputs": [],
   "source": [
    "label_test = [int(x) for x in label_test]"
   ]
  },
  {
   "cell_type": "code",
   "execution_count": 45,
   "metadata": {},
   "outputs": [],
   "source": [
    "confident_img = []\n",
    "confident_pred =[]\n",
    "confident_label = []\n",
    "for i in range(5400):\n",
    "    label, img, prediction = label_test[i],img_test[i], preds[i]\n",
    "    if label == max_recall_val and prediction != label :\n",
    "        confident_img.append(img)\n",
    "        confident_pred.append(prediction)\n",
    "        confident_label.append(label)\n",
    "        \n",
    "        "
   ]
  },
  {
   "cell_type": "code",
   "execution_count": 46,
   "metadata": {},
   "outputs": [
    {
     "data": {
      "text/plain": [
       "8"
      ]
     },
     "execution_count": 46,
     "metadata": {},
     "output_type": "execute_result"
    }
   ],
   "source": [
    "len(confident_label)"
   ]
  },
  {
   "cell_type": "code",
   "execution_count": 47,
   "metadata": {},
   "outputs": [
    {
     "name": "stdout",
     "output_type": "stream",
     "text": [
      "True: SeaLake \t Predicted: AnnualCrop\n"
     ]
    },
    {
     "data": {
      "image/png": "[encoded data removed]",
      "text/plain": [
       "<Figure size 432x288 with 1 Axes>"
      ]
     },
     "metadata": {
      "needs_background": "light"
     },
     "output_type": "display_data"
    }
   ],
   "source": [
    "show_img(confident_img[0])\n",
    "print(f'True: {classes[confident_label[0]]} \\t Predicted: {classes[confident_pred[0]]}')"
   ]
  },
  {
   "cell_type": "code",
   "execution_count": 48,
   "metadata": {},
   "outputs": [
    {
     "name": "stdout",
     "output_type": "stream",
     "text": [
      "True: SeaLake \t Predicted: Forest\n"
     ]
    },
    {
     "data": {
      "image/png": "[encoded data removed]",
      "text/plain": [
       "<Figure size 432x288 with 1 Axes>"
      ]
     },
     "metadata": {
      "needs_background": "light"
     },
     "output_type": "display_data"
    }
   ],
   "source": [
    "show_img(confident_img[1])\n",
    "print(f'True: {classes[confident_label[1]]} \\t Predicted: {classes[confident_pred[1]]}')"
   ]
  },
  {
   "cell_type": "code",
   "execution_count": 49,
   "metadata": {},
   "outputs": [
    {
     "name": "stdout",
     "output_type": "stream",
     "text": [
      "True: SeaLake \t Predicted: Forest\n"
     ]
    },
    {
     "data": {
      "image/png": "[encoded data removed]",
      "text/plain": [
       "<Figure size 432x288 with 1 Axes>"
      ]
     },
     "metadata": {
      "needs_background": "light"
     },
     "output_type": "display_data"
    }
   ],
   "source": [
    "show_img(confident_img[2])\n",
    "print(f'True: {classes[confident_label[2]]} \\t Predicted: {classes[confident_pred[2]]}')"
   ]
  },
  {
   "cell_type": "code",
   "execution_count": 51,
   "metadata": {},
   "outputs": [
    {
     "name": "stdout",
     "output_type": "stream",
     "text": [
      "True: SeaLake \t Predicted: AnnualCrop\n"
     ]
    },
    {
     "data": {
      "image/png": "[encoded data removed]",
      "text/plain": [
       "<Figure size 432x288 with 1 Axes>"
      ]
     },
     "metadata": {
      "needs_background": "light"
     },
     "output_type": "display_data"
    }
   ],
   "source": [
    "show_img(confident_img[3])\n",
    "print(f'True: {classes[confident_label[3]]} \\t Predicted: {classes[confident_pred[3]]}')"
   ]
  },
  {
   "cell_type": "code",
   "execution_count": 50,
   "metadata": {},
   "outputs": [
    {
     "data": {
      "text/plain": [
       "<sklearn.metrics._plot.confusion_matrix.ConfusionMatrixDisplay at 0x7fdaa63abe80>"
      ]
     },
     "execution_count": 50,
     "metadata": {},
     "output_type": "execute_result"
    },
    {
     "data": {
      "image/png": "[encoded data removed]",
      "text/plain": [
       "<Figure size 432x288 with 2 Axes>"
      ]
     },
     "metadata": {
      "needs_background": "light"
     },
     "output_type": "display_data"
    }
   ],
   "source": [
    "y_true, y_pred = get_all_preds(model, test_loader)\n",
    "from sklearn.metrics import confusion_matrix, ConfusionMatrixDisplay\n",
    "cm = confusion_matrix(y_true, y_pred)\n",
    "disp = ConfusionMatrixDisplay(confusion_matrix=cm)\n",
    "disp.plot()"
   ]
  },
  {
   "cell_type": "markdown",
   "metadata": {},
   "source": [
    "### Retrain the model with the same hyper parameters, but keep pretrained=False"
   ]
  },
  {
   "cell_type": "code",
   "execution_count": 8,
   "metadata": {},
   "outputs": [],
   "source": [
    "def resnet_eurosat_classifier_2():\n",
    "    model = models.resnet18(pretrained=False)\n",
    "\n",
    "    # replace the last layer\n",
    "    num_features = model.fc.in_features\n",
    "    model.fc = nn.Linear(num_features, 10)\n",
    "\n",
    "    # transfer the model to the GPU\n",
    "    model = model.to(device)\n",
    "    return model"
   ]
  },
  {
   "cell_type": "code",
   "execution_count": 20,
   "metadata": {},
   "outputs": [],
   "source": [
    "def fit(epochs,valid_loss_min, model, path):\n",
    "    # load the pre-trained model\n",
    "    best_acc = 0 # variable to store best accuracy\n",
    "    \n",
    "    # lists to store accuracies and losses\n",
    "    train_losses = []\n",
    "    train_accuracies = []\n",
    "    val_losses = []\n",
    "    val_accuracies = []\n",
    "\n",
    "    # loss function\n",
    "    loss_function = nn.CrossEntropyLoss()\n",
    "\n",
    "    # We'll optimize all parameters\n",
    "    optimizer = optim.Adam(model.parameters())\n",
    "\n",
    "    # train\n",
    "    for epoch in range(epochs):\n",
    "        print('Epoch {}/{}'.format(epoch + 1, epochs))\n",
    "\n",
    "        train_acc, train_loss = train_model(model, loss_function, optimizer, train_loader)\n",
    "        val_acc, valid_loss = validate_model(model, loss_function, val_loader)\n",
    "        \n",
    "        train_losses.append(train_loss)\n",
    "        train_accuracies.append(train_acc)\n",
    "        val_losses.append(valid_loss)\n",
    "        val_accuracies.append(val_acc)       \n",
    "\n",
    "\n",
    "        \n",
    "        ## save the model if validation loss has decreased\n",
    "        if valid_loss <= valid_loss_min:\n",
    "            print('Validation loss decreased ({:.6f} --> {:.6f}).  Saving model ...'.format(valid_loss_min,valid_loss))\n",
    "            torch.save(model.state_dict(), path)\n",
    "            valid_loss_min = valid_loss\n",
    "            \n",
    "        # implementing early stopping code\n",
    "        if val_acc > best_acc:\n",
    "            best_acc = val_acc\n",
    "            es = 0\n",
    "        else:\n",
    "            es += 1\n",
    "            print(\"Counter {} of 5 (early stopping)\".format(es))\n",
    "\n",
    "            if es > 4:\n",
    "                print(\"Early stopping with best_acc: \", best_acc, \"and val_acc for this epoch: \", val_acc, \"...\")\n",
    "                break\n",
    "                \n",
    "    return train_losses,train_accuracies,val_losses,val_accuracies\n"
   ]
  },
  {
   "cell_type": "code",
   "execution_count": 21,
   "metadata": {},
   "outputs": [
    {
     "name": "stdout",
     "output_type": "stream",
     "text": [
      "Epoch 1/15\n",
      "Train Loss: 0.9711;    Train Accuracy: 0.6549\n",
      "Validation Loss: 1.0762;    Validation Accuracy: 0.6335\n",
      "Validation loss decreased (inf --> 1.076225).  Saving model ...\n",
      "Epoch 2/15\n",
      "Train Loss: 0.6954;    Train Accuracy: 0.7579\n",
      "Validation Loss: 0.8623;    Validation Accuracy: 0.6905\n",
      "Validation loss decreased (1.076225 --> 0.862303).  Saving model ...\n",
      "Epoch 3/15\n",
      "Train Loss: 0.5620;    Train Accuracy: 0.8034\n",
      "Validation Loss: 0.7931;    Validation Accuracy: 0.7333\n",
      "Validation loss decreased (0.862303 --> 0.793130).  Saving model ...\n",
      "Epoch 4/15\n",
      "Train Loss: 0.4745;    Train Accuracy: 0.8325\n",
      "Validation Loss: 0.9402;    Validation Accuracy: 0.6838\n",
      "Counter 1 of 5 (early stopping)\n",
      "Epoch 5/15\n",
      "Train Loss: 0.3932;    Train Accuracy: 0.8614\n",
      "Validation Loss: 1.3501;    Validation Accuracy: 0.6321\n",
      "Counter 2 of 5 (early stopping)\n",
      "Epoch 6/15\n",
      "Train Loss: 0.3434;    Train Accuracy: 0.8788\n",
      "Validation Loss: 2.3567;    Validation Accuracy: 0.5360\n",
      "Counter 3 of 5 (early stopping)\n",
      "Epoch 7/15\n",
      "Train Loss: 0.2938;    Train Accuracy: 0.8966\n",
      "Validation Loss: 1.4804;    Validation Accuracy: 0.6307\n",
      "Counter 4 of 5 (early stopping)\n",
      "Epoch 8/15\n",
      "Train Loss: 0.2540;    Train Accuracy: 0.9105\n",
      "Validation Loss: 0.5581;    Validation Accuracy: 0.8016\n",
      "Validation loss decreased (0.793130 --> 0.558050).  Saving model ...\n",
      "Epoch 9/15\n",
      "Train Loss: 0.2068;    Train Accuracy: 0.9282\n",
      "Validation Loss: 0.5552;    Validation Accuracy: 0.8251\n",
      "Validation loss decreased (0.558050 --> 0.555249).  Saving model ...\n",
      "Epoch 10/15\n",
      "Train Loss: 0.1779;    Train Accuracy: 0.9380\n",
      "Validation Loss: 0.9947;    Validation Accuracy: 0.7415\n",
      "Counter 1 of 5 (early stopping)\n",
      "Epoch 11/15\n",
      "Train Loss: 0.1483;    Train Accuracy: 0.9485\n",
      "Validation Loss: 1.5698;    Validation Accuracy: 0.6378\n",
      "Counter 2 of 5 (early stopping)\n",
      "Epoch 12/15\n",
      "Train Loss: 0.1350;    Train Accuracy: 0.9508\n",
      "Validation Loss: 1.0767;    Validation Accuracy: 0.7368\n",
      "Counter 3 of 5 (early stopping)\n",
      "Epoch 13/15\n",
      "Train Loss: 0.1226;    Train Accuracy: 0.9576\n",
      "Validation Loss: 1.2218;    Validation Accuracy: 0.7208\n",
      "Counter 4 of 5 (early stopping)\n",
      "Epoch 14/15\n",
      "Train Loss: 0.1061;    Train Accuracy: 0.9639\n",
      "Validation Loss: 1.7070;    Validation Accuracy: 0.6403\n",
      "Counter 5 of 5 (early stopping)\n",
      "Early stopping with best_acc:  tensor(0.8251, dtype=torch.float64) and val_acc for this epoch:  tensor(0.6403, dtype=torch.float64) ...\n"
     ]
    }
   ],
   "source": [
    "model2 = resnet_eurosat_classifier_2()\n",
    "train_loss_false,train_accuracy_false,val_loss_false,val_accuracy_false = fit(15,np.Inf,model2,'./logs_resnet/resnet_false.pth')"
   ]
  },
  {
   "cell_type": "code",
   "execution_count": 22,
   "metadata": {},
   "outputs": [
    {
     "data": {
      "text/plain": [
       "[tensor(0.6335, dtype=torch.float64),\n",
       " tensor(0.6905, dtype=torch.float64),\n",
       " tensor(0.7333, dtype=torch.float64),\n",
       " tensor(0.6838, dtype=torch.float64),\n",
       " tensor(0.6321, dtype=torch.float64),\n",
       " tensor(0.5360, dtype=torch.float64),\n",
       " tensor(0.6307, dtype=torch.float64),\n",
       " tensor(0.8016, dtype=torch.float64),\n",
       " tensor(0.8251, dtype=torch.float64),\n",
       " tensor(0.7415, dtype=torch.float64),\n",
       " tensor(0.6378, dtype=torch.float64),\n",
       " tensor(0.7368, dtype=torch.float64),\n",
       " tensor(0.7208, dtype=torch.float64),\n",
       " tensor(0.6403, dtype=torch.float64)]"
      ]
     },
     "execution_count": 22,
     "metadata": {},
     "output_type": "execute_result"
    }
   ],
   "source": [
    "val_accuracy_false"
   ]
  },
  {
   "cell_type": "code",
   "execution_count": 23,
   "metadata": {},
   "outputs": [
    {
     "data": {
      "text/plain": [
       "[1.0762248514724253,\n",
       " 0.8623034517649572,\n",
       " 0.7931302799458517,\n",
       " 0.9402039069735426,\n",
       " 1.3501243703385704,\n",
       " 2.3567124567819797,\n",
       " 1.480434654784678,\n",
       " 0.5580503838693994,\n",
       " 0.5552488629125122,\n",
       " 0.9947229448886339,\n",
       " 1.5697989633619955,\n",
       " 1.0766967900118596,\n",
       " 1.2218407202310373,\n",
       " 1.70704729774399]"
      ]
     },
     "execution_count": 23,
     "metadata": {},
     "output_type": "execute_result"
    }
   ],
   "source": [
    "val_loss_false"
   ]
  },
  {
   "cell_type": "code",
   "execution_count": 24,
   "metadata": {},
   "outputs": [
    {
     "data": {
      "text/plain": [
       "[tensor(0.6549, dtype=torch.float64),\n",
       " tensor(0.7579, dtype=torch.float64),\n",
       " tensor(0.8034, dtype=torch.float64),\n",
       " tensor(0.8325, dtype=torch.float64),\n",
       " tensor(0.8614, dtype=torch.float64),\n",
       " tensor(0.8788, dtype=torch.float64),\n",
       " tensor(0.8966, dtype=torch.float64),\n",
       " tensor(0.9105, dtype=torch.float64),\n",
       " tensor(0.9282, dtype=torch.float64),\n",
       " tensor(0.9380, dtype=torch.float64),\n",
       " tensor(0.9485, dtype=torch.float64),\n",
       " tensor(0.9508, dtype=torch.float64),\n",
       " tensor(0.9576, dtype=torch.float64),\n",
       " tensor(0.9639, dtype=torch.float64)]"
      ]
     },
     "execution_count": 24,
     "metadata": {},
     "output_type": "execute_result"
    }
   ],
   "source": [
    "train_accuracy_false"
   ]
  },
  {
   "cell_type": "code",
   "execution_count": 25,
   "metadata": {},
   "outputs": [
    {
     "data": {
      "text/plain": [
       "[0.9711133972057742,\n",
       " 0.695421050499733,\n",
       " 0.5619847210684752,\n",
       " 0.4744982841980107,\n",
       " 0.39319522680755165,\n",
       " 0.3434161970644821,\n",
       " 0.29376357521032365,\n",
       " 0.2539638149428743,\n",
       " 0.20684670956021117,\n",
       " 0.17790499022535794,\n",
       " 0.1482802704008349,\n",
       " 0.13502620055909967,\n",
       " 0.12255484058583935,\n",
       " 0.10611714175936007]"
      ]
     },
     "execution_count": 25,
     "metadata": {},
     "output_type": "execute_result"
    }
   ],
   "source": [
    "train_loss_false"
   ]
  },
  {
   "cell_type": "code",
   "execution_count": 28,
   "metadata": {},
   "outputs": [
    {
     "data": {
      "image/png": "[encoded data removed]",
      "text/plain": [
       "<Figure size 432x288 with 1 Axes>"
      ]
     },
     "metadata": {
      "needs_background": "light"
     },
     "output_type": "display_data"
    }
   ],
   "source": [
    "# importing the required module\n",
    "plot_accuracies(train_accuracy_false,val_accuracy_false)"
   ]
  },
  {
   "cell_type": "code",
   "execution_count": 30,
   "metadata": {},
   "outputs": [
    {
     "data": {
      "image/png": "[encoded data removed]",
      "text/plain": [
       "<Figure size 432x288 with 1 Axes>"
      ]
     },
     "metadata": {
      "needs_background": "light"
     },
     "output_type": "display_data"
    }
   ],
   "source": [
    "plot_losses(train_loss_false,val_loss_false)"
   ]
  },
  {
   "cell_type": "markdown",
   "metadata": {},
   "source": [
    "## Loading the model"
   ]
  },
  {
   "cell_type": "code",
   "execution_count": 9,
   "metadata": {},
   "outputs": [
    {
     "data": {
      "text/plain": [
       "ResNet(\n",
       "  (conv1): Conv2d(3, 64, kernel_size=(7, 7), stride=(2, 2), padding=(3, 3), bias=False)\n",
       "  (bn1): BatchNorm2d(64, eps=1e-05, momentum=0.1, affine=True, track_running_stats=True)\n",
       "  (relu): ReLU(inplace=True)\n",
       "  (maxpool): MaxPool2d(kernel_size=3, stride=2, padding=1, dilation=1, ceil_mode=False)\n",
       "  (layer1): Sequential(\n",
       "    (0): BasicBlock(\n",
       "      (conv1): Conv2d(64, 64, kernel_size=(3, 3), stride=(1, 1), padding=(1, 1), bias=False)\n",
       "      (bn1): BatchNorm2d(64, eps=1e-05, momentum=0.1, affine=True, track_running_stats=True)\n",
       "      (relu): ReLU(inplace=True)\n",
       "      (conv2): Conv2d(64, 64, kernel_size=(3, 3), stride=(1, 1), padding=(1, 1), bias=False)\n",
       "      (bn2): BatchNorm2d(64, eps=1e-05, momentum=0.1, affine=True, track_running_stats=True)\n",
       "    )\n",
       "    (1): BasicBlock(\n",
       "      (conv1): Conv2d(64, 64, kernel_size=(3, 3), stride=(1, 1), padding=(1, 1), bias=False)\n",
       "      (bn1): BatchNorm2d(64, eps=1e-05, momentum=0.1, affine=True, track_running_stats=True)\n",
       "      (relu): ReLU(inplace=True)\n",
       "      (conv2): Conv2d(64, 64, kernel_size=(3, 3), stride=(1, 1), padding=(1, 1), bias=False)\n",
       "      (bn2): BatchNorm2d(64, eps=1e-05, momentum=0.1, affine=True, track_running_stats=True)\n",
       "    )\n",
       "  )\n",
       "  (layer2): Sequential(\n",
       "    (0): BasicBlock(\n",
       "      (conv1): Conv2d(64, 128, kernel_size=(3, 3), stride=(2, 2), padding=(1, 1), bias=False)\n",
       "      (bn1): BatchNorm2d(128, eps=1e-05, momentum=0.1, affine=True, track_running_stats=True)\n",
       "      (relu): ReLU(inplace=True)\n",
       "      (conv2): Conv2d(128, 128, kernel_size=(3, 3), stride=(1, 1), padding=(1, 1), bias=False)\n",
       "      (bn2): BatchNorm2d(128, eps=1e-05, momentum=0.1, affine=True, track_running_stats=True)\n",
       "      (downsample): Sequential(\n",
       "        (0): Conv2d(64, 128, kernel_size=(1, 1), stride=(2, 2), bias=False)\n",
       "        (1): BatchNorm2d(128, eps=1e-05, momentum=0.1, affine=True, track_running_stats=True)\n",
       "      )\n",
       "    )\n",
       "    (1): BasicBlock(\n",
       "      (conv1): Conv2d(128, 128, kernel_size=(3, 3), stride=(1, 1), padding=(1, 1), bias=False)\n",
       "      (bn1): BatchNorm2d(128, eps=1e-05, momentum=0.1, affine=True, track_running_stats=True)\n",
       "      (relu): ReLU(inplace=True)\n",
       "      (conv2): Conv2d(128, 128, kernel_size=(3, 3), stride=(1, 1), padding=(1, 1), bias=False)\n",
       "      (bn2): BatchNorm2d(128, eps=1e-05, momentum=0.1, affine=True, track_running_stats=True)\n",
       "    )\n",
       "  )\n",
       "  (layer3): Sequential(\n",
       "    (0): BasicBlock(\n",
       "      (conv1): Conv2d(128, 256, kernel_size=(3, 3), stride=(2, 2), padding=(1, 1), bias=False)\n",
       "      (bn1): BatchNorm2d(256, eps=1e-05, momentum=0.1, affine=True, track_running_stats=True)\n",
       "      (relu): ReLU(inplace=True)\n",
       "      (conv2): Conv2d(256, 256, kernel_size=(3, 3), stride=(1, 1), padding=(1, 1), bias=False)\n",
       "      (bn2): BatchNorm2d(256, eps=1e-05, momentum=0.1, affine=True, track_running_stats=True)\n",
       "      (downsample): Sequential(\n",
       "        (0): Conv2d(128, 256, kernel_size=(1, 1), stride=(2, 2), bias=False)\n",
       "        (1): BatchNorm2d(256, eps=1e-05, momentum=0.1, affine=True, track_running_stats=True)\n",
       "      )\n",
       "    )\n",
       "    (1): BasicBlock(\n",
       "      (conv1): Conv2d(256, 256, kernel_size=(3, 3), stride=(1, 1), padding=(1, 1), bias=False)\n",
       "      (bn1): BatchNorm2d(256, eps=1e-05, momentum=0.1, affine=True, track_running_stats=True)\n",
       "      (relu): ReLU(inplace=True)\n",
       "      (conv2): Conv2d(256, 256, kernel_size=(3, 3), stride=(1, 1), padding=(1, 1), bias=False)\n",
       "      (bn2): BatchNorm2d(256, eps=1e-05, momentum=0.1, affine=True, track_running_stats=True)\n",
       "    )\n",
       "  )\n",
       "  (layer4): Sequential(\n",
       "    (0): BasicBlock(\n",
       "      (conv1): Conv2d(256, 512, kernel_size=(3, 3), stride=(2, 2), padding=(1, 1), bias=False)\n",
       "      (bn1): BatchNorm2d(512, eps=1e-05, momentum=0.1, affine=True, track_running_stats=True)\n",
       "      (relu): ReLU(inplace=True)\n",
       "      (conv2): Conv2d(512, 512, kernel_size=(3, 3), stride=(1, 1), padding=(1, 1), bias=False)\n",
       "      (bn2): BatchNorm2d(512, eps=1e-05, momentum=0.1, affine=True, track_running_stats=True)\n",
       "      (downsample): Sequential(\n",
       "        (0): Conv2d(256, 512, kernel_size=(1, 1), stride=(2, 2), bias=False)\n",
       "        (1): BatchNorm2d(512, eps=1e-05, momentum=0.1, affine=True, track_running_stats=True)\n",
       "      )\n",
       "    )\n",
       "    (1): BasicBlock(\n",
       "      (conv1): Conv2d(512, 512, kernel_size=(3, 3), stride=(1, 1), padding=(1, 1), bias=False)\n",
       "      (bn1): BatchNorm2d(512, eps=1e-05, momentum=0.1, affine=True, track_running_stats=True)\n",
       "      (relu): ReLU(inplace=True)\n",
       "      (conv2): Conv2d(512, 512, kernel_size=(3, 3), stride=(1, 1), padding=(1, 1), bias=False)\n",
       "      (bn2): BatchNorm2d(512, eps=1e-05, momentum=0.1, affine=True, track_running_stats=True)\n",
       "    )\n",
       "  )\n",
       "  (avgpool): AdaptiveAvgPool2d(output_size=(1, 1))\n",
       "  (fc): Linear(in_features=512, out_features=10, bias=True)\n",
       ")"
      ]
     },
     "execution_count": 9,
     "metadata": {},
     "output_type": "execute_result"
    }
   ],
   "source": [
    "model2 = resnet_eurosat_classifier_2()\n",
    "# model2.load_state_dict(torch.load('./logs_resnet/resnet_false.pth'))\n",
    "model2.load_state_dict(torch.load('./resnet_false.pth'))\n",
    "model2.to(device)"
   ]
  },
  {
   "cell_type": "code",
   "execution_count": 37,
   "metadata": {},
   "outputs": [],
   "source": [
    "labels_false,preds_false = get_all_preds(model2, test_loader)"
   ]
  },
  {
   "cell_type": "code",
   "execution_count": 38,
   "metadata": {},
   "outputs": [],
   "source": [
    "def accuracy(labels,preds):\n",
    "    count = 0\n",
    "    for i in range(len(labels)):\n",
    "        if preds[i] == labels[i]:\n",
    "            count = count+1\n",
    "    acc_test = count/ len(labels)\n",
    "    return acc_test"
   ]
  },
  {
   "cell_type": "code",
   "execution_count": 39,
   "metadata": {},
   "outputs": [
    {
     "name": "stdout",
     "output_type": "stream",
     "text": [
      "Accuracy of test data when pretrained = false is 0.875\n",
      "\n"
     ]
    }
   ],
   "source": [
    "res = accuracy(labels_false,preds_false)\n",
    "print(f'Accuracy of test data when pretrained = false is {res}\\n')"
   ]
  },
  {
   "cell_type": "code",
   "execution_count": 40,
   "metadata": {},
   "outputs": [
    {
     "name": "stdout",
     "output_type": "stream",
     "text": [
      "Accuracy of validation data when pretrained = false is 0.8796296296296297\n",
      "\n"
     ]
    }
   ],
   "source": [
    "labels_val_false,preds_val_false = get_all_preds(model2, val_loader)\n",
    "res2 = accuracy(labels_val_false,preds_val_false)\n",
    "print(f'Accuracy of validation data when pretrained = false is {res2}\\n')"
   ]
  },
  {
   "cell_type": "code",
   "execution_count": null,
   "metadata": {},
   "outputs": [],
   "source": []
  }
 ],
 "metadata": {
  "kernelspec": {
   "display_name": "Python 3",
   "language": "python",
   "name": "python3"
  },
  "language_info": {
   "codemirror_mode": {
    "name": "ipython",
    "version": 3
   },
   "file_extension": ".py",
   "mimetype": "text/x-python",
   "name": "python",
   "nbconvert_exporter": "python",
   "pygments_lexer": "ipython3",
   "version": "3.8.5"
  }
 },
 "nbformat": 4,
 "nbformat_minor": 5
}
